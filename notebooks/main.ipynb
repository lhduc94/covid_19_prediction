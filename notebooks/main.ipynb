{
 "cells": [
  {
   "cell_type": "code",
   "execution_count": null,
   "metadata": {},
   "outputs": [],
   "source": []
  },
  {
   "cell_type": "code",
   "execution_count": 48,
   "metadata": {},
   "outputs": [],
   "source": [
    "import pandas as pd\n",
    "import numpy as np\n",
    "import matplotlib.pyplot as plt\n",
    "import seaborn as sns\n",
    "import warnings\n",
    "warnings.simplefilter(action='ignore', category=FutureWarning)"
   ]
  },
  {
   "cell_type": "code",
   "execution_count": 2,
   "metadata": {},
   "outputs": [
    {
     "data": {
      "text/html": [
       "<div>\n",
       "<style scoped>\n",
       "    .dataframe tbody tr th:only-of-type {\n",
       "        vertical-align: middle;\n",
       "    }\n",
       "\n",
       "    .dataframe tbody tr th {\n",
       "        vertical-align: top;\n",
       "    }\n",
       "\n",
       "    .dataframe thead th {\n",
       "        text-align: right;\n",
       "    }\n",
       "</style>\n",
       "<table border=\"1\" class=\"dataframe\">\n",
       "  <thead>\n",
       "    <tr style=\"text-align: right;\">\n",
       "      <th></th>\n",
       "      <th>Diagnosis</th>\n",
       "      <th>InitialPCRDiagnosis</th>\n",
       "      <th>Age</th>\n",
       "      <th>Sex</th>\n",
       "      <th>neutrophil</th>\n",
       "      <th>serumLevelsOfWhiteBloodCell</th>\n",
       "      <th>lymphocytes</th>\n",
       "      <th>CReactiveProteinLevels</th>\n",
       "      <th>DurationOfIllness</th>\n",
       "      <th>CTscanResults</th>\n",
       "      <th>RiskFactors</th>\n",
       "      <th>GroundGlassOpacity</th>\n",
       "      <th>Diarrhea</th>\n",
       "      <th>Fever</th>\n",
       "      <th>Coughing</th>\n",
       "      <th>ShortnessOfBreath</th>\n",
       "      <th>SoreThroat</th>\n",
       "      <th>NauseaVomitting</th>\n",
       "      <th>Temperature</th>\n",
       "      <th>Fatigue</th>\n",
       "    </tr>\n",
       "  </thead>\n",
       "  <tbody>\n",
       "    <tr>\n",
       "      <th>0</th>\n",
       "      <td>H1N1</td>\n",
       "      <td>NaN</td>\n",
       "      <td>67.0</td>\n",
       "      <td>F</td>\n",
       "      <td>NaN</td>\n",
       "      <td>NaN</td>\n",
       "      <td>NaN</td>\n",
       "      <td>NaN</td>\n",
       "      <td>NaN</td>\n",
       "      <td>NaN</td>\n",
       "      <td>NaN</td>\n",
       "      <td>NaN</td>\n",
       "      <td>NaN</td>\n",
       "      <td>Yes</td>\n",
       "      <td>Yes</td>\n",
       "      <td>NaN</td>\n",
       "      <td>No</td>\n",
       "      <td>NaN</td>\n",
       "      <td>38.111111</td>\n",
       "      <td>No</td>\n",
       "    </tr>\n",
       "    <tr>\n",
       "      <th>1</th>\n",
       "      <td>H1N1</td>\n",
       "      <td>NaN</td>\n",
       "      <td>29.0</td>\n",
       "      <td>M</td>\n",
       "      <td>NaN</td>\n",
       "      <td>NaN</td>\n",
       "      <td>NaN</td>\n",
       "      <td>NaN</td>\n",
       "      <td>NaN</td>\n",
       "      <td>NaN</td>\n",
       "      <td>NaN</td>\n",
       "      <td>NaN</td>\n",
       "      <td>NaN</td>\n",
       "      <td>NaN</td>\n",
       "      <td>NaN</td>\n",
       "      <td>NaN</td>\n",
       "      <td>NaN</td>\n",
       "      <td>NaN</td>\n",
       "      <td>NaN</td>\n",
       "      <td>NaN</td>\n",
       "    </tr>\n",
       "    <tr>\n",
       "      <th>2</th>\n",
       "      <td>H1N1</td>\n",
       "      <td>NaN</td>\n",
       "      <td>22.0</td>\n",
       "      <td>F</td>\n",
       "      <td>NaN</td>\n",
       "      <td>NaN</td>\n",
       "      <td>NaN</td>\n",
       "      <td>NaN</td>\n",
       "      <td>NaN</td>\n",
       "      <td>NaN</td>\n",
       "      <td>NaN</td>\n",
       "      <td>NaN</td>\n",
       "      <td>NaN</td>\n",
       "      <td>NaN</td>\n",
       "      <td>NaN</td>\n",
       "      <td>NaN</td>\n",
       "      <td>NaN</td>\n",
       "      <td>NaN</td>\n",
       "      <td>NaN</td>\n",
       "      <td>NaN</td>\n",
       "    </tr>\n",
       "    <tr>\n",
       "      <th>3</th>\n",
       "      <td>H1N1</td>\n",
       "      <td>NaN</td>\n",
       "      <td>20.0</td>\n",
       "      <td>F</td>\n",
       "      <td>NaN</td>\n",
       "      <td>NaN</td>\n",
       "      <td>NaN</td>\n",
       "      <td>NaN</td>\n",
       "      <td>NaN</td>\n",
       "      <td>NaN</td>\n",
       "      <td>immuno</td>\n",
       "      <td>NaN</td>\n",
       "      <td>NaN</td>\n",
       "      <td>Yes</td>\n",
       "      <td>Yes</td>\n",
       "      <td>NaN</td>\n",
       "      <td>No</td>\n",
       "      <td>NaN</td>\n",
       "      <td>36.555556</td>\n",
       "      <td>Yes</td>\n",
       "    </tr>\n",
       "    <tr>\n",
       "      <th>4</th>\n",
       "      <td>H1N1</td>\n",
       "      <td>NaN</td>\n",
       "      <td>21.0</td>\n",
       "      <td>M</td>\n",
       "      <td>NaN</td>\n",
       "      <td>NaN</td>\n",
       "      <td>NaN</td>\n",
       "      <td>NaN</td>\n",
       "      <td>NaN</td>\n",
       "      <td>NaN</td>\n",
       "      <td>NaN</td>\n",
       "      <td>NaN</td>\n",
       "      <td>NaN</td>\n",
       "      <td>NaN</td>\n",
       "      <td>NaN</td>\n",
       "      <td>NaN</td>\n",
       "      <td>NaN</td>\n",
       "      <td>NaN</td>\n",
       "      <td>NaN</td>\n",
       "      <td>NaN</td>\n",
       "    </tr>\n",
       "  </tbody>\n",
       "</table>\n",
       "</div>"
      ],
      "text/plain": [
       "  Diagnosis InitialPCRDiagnosis   Age Sex  neutrophil  \\\n",
       "0      H1N1                 NaN  67.0   F         NaN   \n",
       "1      H1N1                 NaN  29.0   M         NaN   \n",
       "2      H1N1                 NaN  22.0   F         NaN   \n",
       "3      H1N1                 NaN  20.0   F         NaN   \n",
       "4      H1N1                 NaN  21.0   M         NaN   \n",
       "\n",
       "   serumLevelsOfWhiteBloodCell  lymphocytes CReactiveProteinLevels  \\\n",
       "0                          NaN          NaN                    NaN   \n",
       "1                          NaN          NaN                    NaN   \n",
       "2                          NaN          NaN                    NaN   \n",
       "3                          NaN          NaN                    NaN   \n",
       "4                          NaN          NaN                    NaN   \n",
       "\n",
       "   DurationOfIllness CTscanResults RiskFactors GroundGlassOpacity Diarrhea  \\\n",
       "0                NaN           NaN         NaN                NaN      NaN   \n",
       "1                NaN           NaN         NaN                NaN      NaN   \n",
       "2                NaN           NaN         NaN                NaN      NaN   \n",
       "3                NaN           NaN      immuno                NaN      NaN   \n",
       "4                NaN           NaN         NaN                NaN      NaN   \n",
       "\n",
       "  Fever Coughing ShortnessOfBreath SoreThroat NauseaVomitting  Temperature  \\\n",
       "0   Yes      Yes               NaN         No             NaN    38.111111   \n",
       "1   NaN      NaN               NaN        NaN             NaN          NaN   \n",
       "2   NaN      NaN               NaN        NaN             NaN          NaN   \n",
       "3   Yes      Yes               NaN         No             NaN    36.555556   \n",
       "4   NaN      NaN               NaN        NaN             NaN          NaN   \n",
       "\n",
       "  Fatigue  \n",
       "0      No  \n",
       "1     NaN  \n",
       "2     NaN  \n",
       "3     Yes  \n",
       "4     NaN  "
      ]
     },
     "execution_count": 2,
     "metadata": {},
     "output_type": "execute_result"
    }
   ],
   "source": [
    "covid_flu = pd.read_csv('../data/covid_flu.csv')\n",
    "covid_flu.head()"
   ]
  },
  {
   "cell_type": "markdown",
   "metadata": {},
   "source": [
    "Kiểm tra các cột có bao nhiêu phần tử Null"
   ]
  },
  {
   "cell_type": "code",
   "execution_count": 3,
   "metadata": {},
   "outputs": [
    {
     "data": {
      "text/plain": [
       "Diagnosis                      0.000000\n",
       "Age                            0.018893\n",
       "Sex                            0.051282\n",
       "Fever                          0.377193\n",
       "Coughing                       0.420378\n",
       "SoreThroat                     0.547908\n",
       "Temperature                    0.576248\n",
       "Fatigue                        0.641700\n",
       "Diarrhea                       0.696356\n",
       "NauseaVomitting                0.715924\n",
       "RiskFactors                    0.858974\n",
       "CTscanResults                  0.892713\n",
       "lymphocytes                    0.894737\n",
       "serumLevelsOfWhiteBloodCell    0.898111\n",
       "CReactiveProteinLevels         0.907557\n",
       "InitialPCRDiagnosis            0.929825\n",
       "neutrophil                     0.930499\n",
       "GroundGlassOpacity             0.937247\n",
       "DurationOfIllness              0.941296\n",
       "ShortnessOfBreath              0.949393\n",
       "dtype: float64"
      ]
     },
     "execution_count": 3,
     "metadata": {},
     "output_type": "execute_result"
    }
   ],
   "source": [
    "covid_flu.isnull().mean().sort_values()"
   ]
  },
  {
   "cell_type": "markdown",
   "metadata": {},
   "source": [
    "Kiểm tra datatypes"
   ]
  },
  {
   "cell_type": "code",
   "execution_count": 4,
   "metadata": {},
   "outputs": [
    {
     "name": "stdout",
     "output_type": "stream",
     "text": [
      "<class 'pandas.core.frame.DataFrame'>\n",
      "RangeIndex: 1482 entries, 0 to 1481\n",
      "Data columns (total 20 columns):\n",
      " #   Column                       Non-Null Count  Dtype  \n",
      "---  ------                       --------------  -----  \n",
      " 0   Diagnosis                    1482 non-null   object \n",
      " 1   InitialPCRDiagnosis          104 non-null    object \n",
      " 2   Age                          1454 non-null   float64\n",
      " 3   Sex                          1406 non-null   object \n",
      " 4   neutrophil                   103 non-null    float64\n",
      " 5   serumLevelsOfWhiteBloodCell  151 non-null    float64\n",
      " 6   lymphocytes                  156 non-null    float64\n",
      " 7   CReactiveProteinLevels       137 non-null    object \n",
      " 8   DurationOfIllness            87 non-null     float64\n",
      " 9   CTscanResults                159 non-null    object \n",
      " 10  RiskFactors                  209 non-null    object \n",
      " 11  GroundGlassOpacity           93 non-null     object \n",
      " 12  Diarrhea                     450 non-null    object \n",
      " 13  Fever                        923 non-null    object \n",
      " 14  Coughing                     859 non-null    object \n",
      " 15  ShortnessOfBreath            75 non-null     object \n",
      " 16  SoreThroat                   670 non-null    object \n",
      " 17  NauseaVomitting              421 non-null    object \n",
      " 18  Temperature                  628 non-null    float64\n",
      " 19  Fatigue                      531 non-null    object \n",
      "dtypes: float64(6), object(14)\n",
      "memory usage: 231.7+ KB\n"
     ]
    }
   ],
   "source": [
    "covid_flu.info()"
   ]
  },
  {
   "cell_type": "markdown",
   "metadata": {},
   "source": [
    "### Feature Improvement"
   ]
  },
  {
   "cell_type": "markdown",
   "metadata": {},
   "source": [
    "#### Xử lý dữ liệu định lượng"
   ]
  },
  {
   "cell_type": "markdown",
   "metadata": {},
   "source": [
    "Những cột dữ liệu định lượng có kiểu dữ liệu `float` hoặc `int`"
   ]
  },
  {
   "cell_type": "code",
   "execution_count": 5,
   "metadata": {},
   "outputs": [
    {
     "name": "stdout",
     "output_type": "stream",
     "text": [
      "Age                            0.018893\n",
      "Temperature                    0.576248\n",
      "lymphocytes                    0.894737\n",
      "serumLevelsOfWhiteBloodCell    0.898111\n",
      "neutrophil                     0.930499\n",
      "DurationOfIllness              0.941296\n",
      "dtype: float64\n"
     ]
    }
   ],
   "source": [
    "numeric_type = ['float16', 'float32', 'float64', 'int16', 'int32', 'int64']\n",
    "# numerical_columns = covid_flu.select_dtypes(numeric_type).columns.tolist()\n",
    "numerical_columns = [col for col in covid_flu.columns if covid_flu[col].dtypes in numeric_type]\n",
    "print(covid_flu[numerical_columns].isnull().mean().sort_values())"
   ]
  },
  {
   "cell_type": "markdown",
   "metadata": {},
   "source": [
    "**Xử lý missing value bằng mean/median**"
   ]
  },
  {
   "cell_type": "markdown",
   "metadata": {},
   "source": [
    "Chúng ta có thể dùng thư viện SimpleImputer của Scikit learn"
   ]
  },
  {
   "cell_type": "code",
   "execution_count": 6,
   "metadata": {},
   "outputs": [
    {
     "name": "stdout",
     "output_type": "stream",
     "text": [
      "1.8501538461538463\n",
      "[[1.85015385]\n",
      " [1.85015385]\n",
      " [1.85015385]\n",
      " ...\n",
      " [1.85015385]\n",
      " [1.85015385]\n",
      " [1.85015385]]\n"
     ]
    }
   ],
   "source": [
    "from sklearn.impute import SimpleImputer\n",
    "num_impute = SimpleImputer(strategy='mean')\n",
    "print(covid_flu['lymphocytes'].mean())\n",
    "print(num_impute.fit_transform(covid_flu[['lymphocytes']]))"
   ]
  },
  {
   "cell_type": "markdown",
   "metadata": {},
   "source": [
    "**Xử lý missing value bằng giá trị cụ thể**"
   ]
  },
  {
   "cell_type": "markdown",
   "metadata": {},
   "source": [
    "Chúng ta có thể thay thế các giá trị bị khuyết thiếu bằng các giá trị cụ thể như -1, 0, 99, 999 cho biết rằng giá trị này không bị thiếu một cách ngẫu nhiên. Các giá trị này phải nằm ngoài khoảng giá trị của dữ liệu, ví dụ với nhiệt độ sẽ nằm trong khoảng 0-100 thì việc thay thế bằng 99 sẽ không hợp lý, do đó chúng ta chọn thay thế bằng số 999"
   ]
  },
  {
   "cell_type": "code",
   "execution_count": 7,
   "metadata": {},
   "outputs": [
    {
     "data": {
      "text/plain": [
       "array([[ 67.        , 999.        , 999.        , 999.        ,\n",
       "        999.        ,  38.11111111],\n",
       "       [ 29.        , 999.        , 999.        , 999.        ,\n",
       "        999.        , 999.        ],\n",
       "       [ 22.        , 999.        , 999.        , 999.        ,\n",
       "        999.        , 999.        ],\n",
       "       ...,\n",
       "       [  3.        , 999.        ,  15.        , 999.        ,\n",
       "        999.        , 999.        ],\n",
       "       [  4.        , 999.        ,   6.6       , 999.        ,\n",
       "        999.        , 999.        ],\n",
       "       [  6.        , 999.        ,   5.3       , 999.        ,\n",
       "        999.        , 999.        ]])"
      ]
     },
     "execution_count": 7,
     "metadata": {},
     "output_type": "execute_result"
    }
   ],
   "source": [
    "arbitrary_imputer = SimpleImputer(strategy='constant', fill_value=999)\n",
    "arbitrary_imputer.fit_transform(covid_flu[numerical_columns])"
   ]
  },
  {
   "cell_type": "markdown",
   "metadata": {},
   "source": [
    "**Xử lý missing value bằng IQR**"
   ]
  },
  {
   "cell_type": "markdown",
   "metadata": {},
   "source": [
    "- Nếu biến là phân phối chuẩn, giá trị điền vào nên là mean + 3 * std\n",
    "- Nếu biến có phân phối bị skewed, chúng ta sử dụng IQR để thêm giá trị cố định bằng cách dùng IQR * 1.5\n",
    "\n",
    "![img](../images/missing_value_iqr.png)\n",
    "\n",
    "Để áp dụng phương pháp này, ta dùng `EndTailImputer`  của thư viện feature-engine"
   ]
  },
  {
   "cell_type": "markdown",
   "metadata": {},
   "source": []
  },
  {
   "cell_type": "code",
   "execution_count": 18,
   "metadata": {},
   "outputs": [
    {
     "data": {
      "text/plain": [
       "Text(0.5, 1.0, 'lymphocytes')"
      ]
     },
     "execution_count": 18,
     "metadata": {},
     "output_type": "execute_result"
    },
    {
     "data": {
      "image/png": "[encoded data removed]",
      "text/plain": [
       "<Figure size 640x480 with 1 Axes>"
      ]
     },
     "metadata": {},
     "output_type": "display_data"
    }
   ],
   "source": [
    "sns.histplot(covid_flu['lymphocytes'])\n",
    "plt.title(\"lymphocytes\")"
   ]
  },
  {
   "cell_type": "code",
   "execution_count": 20,
   "metadata": {},
   "outputs": [],
   "source": [
    "from feature_engine.imputation import EndTailImputer"
   ]
  },
  {
   "cell_type": "code",
   "execution_count": 28,
   "metadata": {},
   "outputs": [
    {
     "name": "stdout",
     "output_type": "stream",
     "text": [
      "13.72015880654883\n"
     ]
    },
    {
     "data": {
      "text/plain": [
       "lymphocytes    30.6\n",
       "dtype: float64"
      ]
     },
     "execution_count": 28,
     "metadata": {},
     "output_type": "execute_result"
    }
   ],
   "source": [
    "eti = EndTailImputer(imputation_method='gaussian', tail='right', fold=3)\n",
    "print(covid_flu['lymphocytes'].mean() + 3 * covid_flu['lymphocytes'].std())\n",
    "eti.fit_transform(covid_flu[['lymphocytes']]).max()"
   ]
  },
  {
   "cell_type": "code",
   "execution_count": 27,
   "metadata": {},
   "outputs": [
    {
     "data": {
      "text/plain": [
       "<Axes: ylabel='Count'>"
      ]
     },
     "execution_count": 27,
     "metadata": {},
     "output_type": "execute_result"
    },
    {
     "data": {
      "image/png": "[encoded data removed]",
      "text/plain": [
       "<Figure size 640x480 with 1 Axes>"
      ]
     },
     "metadata": {},
     "output_type": "display_data"
    }
   ],
   "source": [
    "sns.histplot(eti.fit_transform(covid_flu[['lymphocytes']]))"
   ]
  },
  {
   "cell_type": "markdown",
   "metadata": {},
   "source": [
    "#### Xử lý dữ liệu định tính"
   ]
  },
  {
   "cell_type": "markdown",
   "metadata": {},
   "source": []
  },
  {
   "cell_type": "code",
   "execution_count": 35,
   "metadata": {},
   "outputs": [
    {
     "name": "stdout",
     "output_type": "stream",
     "text": [
      "=======\n",
      "InitialPCRDiagnosis\n",
      "=======\n",
      "InitialPCRDiagnosis\n",
      "NaN    1378\n",
      "Yes     100\n",
      "No        4\n",
      "Name: count, dtype: int64\n",
      "=======\n",
      "Sex\n",
      "=======\n",
      "Sex\n",
      "M      748\n",
      "F      658\n",
      "NaN     76\n",
      "Name: count, dtype: int64\n",
      "=======\n",
      "CReactiveProteinLevels\n",
      "=======\n",
      "CReactiveProteinLevels\n",
      "NaN           1345\n",
      "8                3\n",
      "0.5              3\n",
      "15               3\n",
      "111              2\n",
      "              ... \n",
      "5.78             1\n",
      "67.62            1\n",
      "13.2 mg/dL       1\n",
      "21.27            1\n",
      "0.6              1\n",
      "Name: count, Length: 121, dtype: int64\n",
      "=======\n",
      "CTscanResults\n",
      "=======\n",
      "CTscanResults\n",
      "NaN    1323\n",
      "Yes     144\n",
      "No       15\n",
      "Name: count, dtype: int64\n",
      "=======\n",
      "RiskFactors\n",
      "=======\n",
      "RiskFactors\n",
      "NaN                                                                   1273\n",
      "asthma                                                                  36\n",
      "pneumonia                                                               21\n",
      "immuno                                                                  21\n",
      "diabetes                                                                16\n",
      "                                                                      ... \n",
      "diabetes, Hypertension                                                   1\n",
      "Hypertension, Heart Disease, chronic obstructive pulmonary disease       1\n",
      "rheumatoid arthritis                                                     1\n",
      "hematological disease, immuno, Renal Disease                             1\n",
      "Lung Disease                                                             1\n",
      "Name: count, Length: 64, dtype: int64\n",
      "=======\n",
      "GroundGlassOpacity\n",
      "=======\n",
      "GroundGlassOpacity\n",
      "NaN    1389\n",
      "Yes      90\n",
      "No        3\n",
      "Name: count, dtype: int64\n",
      "=======\n",
      "Diarrhea\n",
      "=======\n",
      "Diarrhea\n",
      "NaN    1032\n",
      "No      340\n",
      "Yes     110\n",
      "Name: count, dtype: int64\n",
      "=======\n",
      "Fever\n",
      "=======\n",
      "Fever\n",
      "Yes    777\n",
      "NaN    559\n",
      "No     146\n",
      "Name: count, dtype: int64\n",
      "=======\n",
      "Coughing\n",
      "=======\n",
      "Coughing\n",
      "Yes    745\n",
      "NaN    623\n",
      "No     114\n",
      "Name: count, dtype: int64\n",
      "=======\n",
      "ShortnessOfBreath\n",
      "=======\n",
      "ShortnessOfBreath\n",
      "NaN    1407\n",
      "Yes      45\n",
      "No       30\n",
      "Name: count, dtype: int64\n",
      "=======\n",
      "SoreThroat\n",
      "=======\n",
      "SoreThroat\n",
      "NaN    812\n",
      "Yes    407\n",
      "No     263\n",
      "Name: count, dtype: int64\n",
      "=======\n",
      "NauseaVomitting\n",
      "=======\n",
      "NauseaVomitting\n",
      "NaN    1061\n",
      "No      319\n",
      "Yes     102\n",
      "Name: count, dtype: int64\n",
      "=======\n",
      "Fatigue\n",
      "=======\n",
      "Fatigue\n",
      "NaN    951\n",
      "Yes    348\n",
      "No     183\n",
      "Name: count, dtype: int64\n"
     ]
    }
   ],
   "source": [
    "categorical_columns = [col for col in covid_flu.columns if covid_flu[col].dtypes=='object']\n",
    "categorical_columns.remove('Diagnosis')\n",
    "for categorical_column in categorical_columns:\n",
    "    print('=======')\n",
    "    print(categorical_column)\n",
    "    print('=======')\n",
    "    print(covid_flu[categorical_column].value_counts(dropna=False))"
   ]
  },
  {
   "cell_type": "markdown",
   "metadata": {},
   "source": [
    "Trong các biến categorical, có hai biến `CReactiveProteinLevels` và `RiskFactors` biến có nhiều giá trị khác nhau, còn lại là các biến nhị phân. \n",
    "\n",
    "Ta tập trung phân tích biến nhị phân trước, cột `Sex` có giá trị là `M` và `F` trong khi các cột khác có giá trị `Yes`, `No`, do đó ta cũng biến đổi cột Sex sang giá trị này"
   ]
  },
  {
   "cell_type": "code",
   "execution_count": 36,
   "metadata": {},
   "outputs": [],
   "source": [
    "covid_flu['isFemale'] = covid_flu['Sex'] == 'F'"
   ]
  },
  {
   "cell_type": "code",
   "execution_count": 38,
   "metadata": {},
   "outputs": [
    {
     "data": {
      "text/html": [
       "<div>\n",
       "<style scoped>\n",
       "    .dataframe tbody tr th:only-of-type {\n",
       "        vertical-align: middle;\n",
       "    }\n",
       "\n",
       "    .dataframe tbody tr th {\n",
       "        vertical-align: top;\n",
       "    }\n",
       "\n",
       "    .dataframe thead th {\n",
       "        text-align: right;\n",
       "    }\n",
       "</style>\n",
       "<table border=\"1\" class=\"dataframe\">\n",
       "  <thead>\n",
       "    <tr style=\"text-align: right;\">\n",
       "      <th></th>\n",
       "      <th>Diagnosis</th>\n",
       "      <th>InitialPCRDiagnosis</th>\n",
       "      <th>Age</th>\n",
       "      <th>Sex</th>\n",
       "      <th>neutrophil</th>\n",
       "      <th>serumLevelsOfWhiteBloodCell</th>\n",
       "      <th>lymphocytes</th>\n",
       "      <th>CReactiveProteinLevels</th>\n",
       "      <th>DurationOfIllness</th>\n",
       "      <th>CTscanResults</th>\n",
       "      <th>...</th>\n",
       "      <th>GroundGlassOpacity</th>\n",
       "      <th>Diarrhea</th>\n",
       "      <th>Fever</th>\n",
       "      <th>Coughing</th>\n",
       "      <th>ShortnessOfBreath</th>\n",
       "      <th>SoreThroat</th>\n",
       "      <th>NauseaVomitting</th>\n",
       "      <th>Temperature</th>\n",
       "      <th>Fatigue</th>\n",
       "      <th>isFemale</th>\n",
       "    </tr>\n",
       "  </thead>\n",
       "  <tbody>\n",
       "    <tr>\n",
       "      <th>0</th>\n",
       "      <td>H1N1</td>\n",
       "      <td>NaN</td>\n",
       "      <td>67.00</td>\n",
       "      <td>F</td>\n",
       "      <td>NaN</td>\n",
       "      <td>NaN</td>\n",
       "      <td>NaN</td>\n",
       "      <td>NaN</td>\n",
       "      <td>NaN</td>\n",
       "      <td>NaN</td>\n",
       "      <td>...</td>\n",
       "      <td>NaN</td>\n",
       "      <td>NaN</td>\n",
       "      <td>True</td>\n",
       "      <td>True</td>\n",
       "      <td>NaN</td>\n",
       "      <td>False</td>\n",
       "      <td>NaN</td>\n",
       "      <td>38.111111</td>\n",
       "      <td>False</td>\n",
       "      <td>True</td>\n",
       "    </tr>\n",
       "    <tr>\n",
       "      <th>1</th>\n",
       "      <td>H1N1</td>\n",
       "      <td>NaN</td>\n",
       "      <td>29.00</td>\n",
       "      <td>M</td>\n",
       "      <td>NaN</td>\n",
       "      <td>NaN</td>\n",
       "      <td>NaN</td>\n",
       "      <td>NaN</td>\n",
       "      <td>NaN</td>\n",
       "      <td>NaN</td>\n",
       "      <td>...</td>\n",
       "      <td>NaN</td>\n",
       "      <td>NaN</td>\n",
       "      <td>NaN</td>\n",
       "      <td>NaN</td>\n",
       "      <td>NaN</td>\n",
       "      <td>NaN</td>\n",
       "      <td>NaN</td>\n",
       "      <td>NaN</td>\n",
       "      <td>NaN</td>\n",
       "      <td>False</td>\n",
       "    </tr>\n",
       "    <tr>\n",
       "      <th>2</th>\n",
       "      <td>H1N1</td>\n",
       "      <td>NaN</td>\n",
       "      <td>22.00</td>\n",
       "      <td>F</td>\n",
       "      <td>NaN</td>\n",
       "      <td>NaN</td>\n",
       "      <td>NaN</td>\n",
       "      <td>NaN</td>\n",
       "      <td>NaN</td>\n",
       "      <td>NaN</td>\n",
       "      <td>...</td>\n",
       "      <td>NaN</td>\n",
       "      <td>NaN</td>\n",
       "      <td>NaN</td>\n",
       "      <td>NaN</td>\n",
       "      <td>NaN</td>\n",
       "      <td>NaN</td>\n",
       "      <td>NaN</td>\n",
       "      <td>NaN</td>\n",
       "      <td>NaN</td>\n",
       "      <td>True</td>\n",
       "    </tr>\n",
       "    <tr>\n",
       "      <th>3</th>\n",
       "      <td>H1N1</td>\n",
       "      <td>NaN</td>\n",
       "      <td>20.00</td>\n",
       "      <td>F</td>\n",
       "      <td>NaN</td>\n",
       "      <td>NaN</td>\n",
       "      <td>NaN</td>\n",
       "      <td>NaN</td>\n",
       "      <td>NaN</td>\n",
       "      <td>NaN</td>\n",
       "      <td>...</td>\n",
       "      <td>NaN</td>\n",
       "      <td>NaN</td>\n",
       "      <td>True</td>\n",
       "      <td>True</td>\n",
       "      <td>NaN</td>\n",
       "      <td>False</td>\n",
       "      <td>NaN</td>\n",
       "      <td>36.555556</td>\n",
       "      <td>True</td>\n",
       "      <td>True</td>\n",
       "    </tr>\n",
       "    <tr>\n",
       "      <th>4</th>\n",
       "      <td>H1N1</td>\n",
       "      <td>NaN</td>\n",
       "      <td>21.00</td>\n",
       "      <td>M</td>\n",
       "      <td>NaN</td>\n",
       "      <td>NaN</td>\n",
       "      <td>NaN</td>\n",
       "      <td>NaN</td>\n",
       "      <td>NaN</td>\n",
       "      <td>NaN</td>\n",
       "      <td>...</td>\n",
       "      <td>NaN</td>\n",
       "      <td>NaN</td>\n",
       "      <td>NaN</td>\n",
       "      <td>NaN</td>\n",
       "      <td>NaN</td>\n",
       "      <td>NaN</td>\n",
       "      <td>NaN</td>\n",
       "      <td>NaN</td>\n",
       "      <td>NaN</td>\n",
       "      <td>False</td>\n",
       "    </tr>\n",
       "    <tr>\n",
       "      <th>...</th>\n",
       "      <td>...</td>\n",
       "      <td>...</td>\n",
       "      <td>...</td>\n",
       "      <td>...</td>\n",
       "      <td>...</td>\n",
       "      <td>...</td>\n",
       "      <td>...</td>\n",
       "      <td>...</td>\n",
       "      <td>...</td>\n",
       "      <td>...</td>\n",
       "      <td>...</td>\n",
       "      <td>...</td>\n",
       "      <td>...</td>\n",
       "      <td>...</td>\n",
       "      <td>...</td>\n",
       "      <td>...</td>\n",
       "      <td>...</td>\n",
       "      <td>...</td>\n",
       "      <td>...</td>\n",
       "      <td>...</td>\n",
       "      <td>...</td>\n",
       "    </tr>\n",
       "    <tr>\n",
       "      <th>1477</th>\n",
       "      <td>COVID19</td>\n",
       "      <td>NaN</td>\n",
       "      <td>1.40</td>\n",
       "      <td>NaN</td>\n",
       "      <td>NaN</td>\n",
       "      <td>9.2</td>\n",
       "      <td>NaN</td>\n",
       "      <td>9.4</td>\n",
       "      <td>NaN</td>\n",
       "      <td>NaN</td>\n",
       "      <td>...</td>\n",
       "      <td>NaN</td>\n",
       "      <td>NaN</td>\n",
       "      <td>NaN</td>\n",
       "      <td>NaN</td>\n",
       "      <td>NaN</td>\n",
       "      <td>NaN</td>\n",
       "      <td>NaN</td>\n",
       "      <td>NaN</td>\n",
       "      <td>NaN</td>\n",
       "      <td>False</td>\n",
       "    </tr>\n",
       "    <tr>\n",
       "      <th>1478</th>\n",
       "      <td>COVID19</td>\n",
       "      <td>NaN</td>\n",
       "      <td>0.83</td>\n",
       "      <td>NaN</td>\n",
       "      <td>NaN</td>\n",
       "      <td>14.8</td>\n",
       "      <td>NaN</td>\n",
       "      <td>0.9</td>\n",
       "      <td>NaN</td>\n",
       "      <td>NaN</td>\n",
       "      <td>...</td>\n",
       "      <td>NaN</td>\n",
       "      <td>NaN</td>\n",
       "      <td>NaN</td>\n",
       "      <td>NaN</td>\n",
       "      <td>NaN</td>\n",
       "      <td>NaN</td>\n",
       "      <td>NaN</td>\n",
       "      <td>NaN</td>\n",
       "      <td>NaN</td>\n",
       "      <td>False</td>\n",
       "    </tr>\n",
       "    <tr>\n",
       "      <th>1479</th>\n",
       "      <td>COVID19</td>\n",
       "      <td>NaN</td>\n",
       "      <td>3.00</td>\n",
       "      <td>NaN</td>\n",
       "      <td>NaN</td>\n",
       "      <td>15.0</td>\n",
       "      <td>NaN</td>\n",
       "      <td>0.7</td>\n",
       "      <td>NaN</td>\n",
       "      <td>NaN</td>\n",
       "      <td>...</td>\n",
       "      <td>NaN</td>\n",
       "      <td>NaN</td>\n",
       "      <td>NaN</td>\n",
       "      <td>NaN</td>\n",
       "      <td>NaN</td>\n",
       "      <td>NaN</td>\n",
       "      <td>NaN</td>\n",
       "      <td>NaN</td>\n",
       "      <td>NaN</td>\n",
       "      <td>False</td>\n",
       "    </tr>\n",
       "    <tr>\n",
       "      <th>1480</th>\n",
       "      <td>COVID19</td>\n",
       "      <td>NaN</td>\n",
       "      <td>4.00</td>\n",
       "      <td>NaN</td>\n",
       "      <td>NaN</td>\n",
       "      <td>6.6</td>\n",
       "      <td>NaN</td>\n",
       "      <td>0.2</td>\n",
       "      <td>NaN</td>\n",
       "      <td>NaN</td>\n",
       "      <td>...</td>\n",
       "      <td>NaN</td>\n",
       "      <td>NaN</td>\n",
       "      <td>NaN</td>\n",
       "      <td>NaN</td>\n",
       "      <td>NaN</td>\n",
       "      <td>NaN</td>\n",
       "      <td>NaN</td>\n",
       "      <td>NaN</td>\n",
       "      <td>NaN</td>\n",
       "      <td>False</td>\n",
       "    </tr>\n",
       "    <tr>\n",
       "      <th>1481</th>\n",
       "      <td>COVID19</td>\n",
       "      <td>NaN</td>\n",
       "      <td>6.00</td>\n",
       "      <td>NaN</td>\n",
       "      <td>NaN</td>\n",
       "      <td>5.3</td>\n",
       "      <td>NaN</td>\n",
       "      <td>0.6</td>\n",
       "      <td>NaN</td>\n",
       "      <td>NaN</td>\n",
       "      <td>...</td>\n",
       "      <td>NaN</td>\n",
       "      <td>NaN</td>\n",
       "      <td>NaN</td>\n",
       "      <td>NaN</td>\n",
       "      <td>NaN</td>\n",
       "      <td>NaN</td>\n",
       "      <td>NaN</td>\n",
       "      <td>NaN</td>\n",
       "      <td>NaN</td>\n",
       "      <td>False</td>\n",
       "    </tr>\n",
       "  </tbody>\n",
       "</table>\n",
       "<p>1482 rows × 21 columns</p>\n",
       "</div>"
      ],
      "text/plain": [
       "     Diagnosis InitialPCRDiagnosis    Age  Sex  neutrophil  \\\n",
       "0         H1N1                 NaN  67.00    F         NaN   \n",
       "1         H1N1                 NaN  29.00    M         NaN   \n",
       "2         H1N1                 NaN  22.00    F         NaN   \n",
       "3         H1N1                 NaN  20.00    F         NaN   \n",
       "4         H1N1                 NaN  21.00    M         NaN   \n",
       "...        ...                 ...    ...  ...         ...   \n",
       "1477   COVID19                 NaN   1.40  NaN         NaN   \n",
       "1478   COVID19                 NaN   0.83  NaN         NaN   \n",
       "1479   COVID19                 NaN   3.00  NaN         NaN   \n",
       "1480   COVID19                 NaN   4.00  NaN         NaN   \n",
       "1481   COVID19                 NaN   6.00  NaN         NaN   \n",
       "\n",
       "      serumLevelsOfWhiteBloodCell  lymphocytes CReactiveProteinLevels  \\\n",
       "0                             NaN          NaN                    NaN   \n",
       "1                             NaN          NaN                    NaN   \n",
       "2                             NaN          NaN                    NaN   \n",
       "3                             NaN          NaN                    NaN   \n",
       "4                             NaN          NaN                    NaN   \n",
       "...                           ...          ...                    ...   \n",
       "1477                          9.2          NaN                    9.4   \n",
       "1478                         14.8          NaN                    0.9   \n",
       "1479                         15.0          NaN                    0.7   \n",
       "1480                          6.6          NaN                    0.2   \n",
       "1481                          5.3          NaN                    0.6   \n",
       "\n",
       "      DurationOfIllness CTscanResults  ... GroundGlassOpacity Diarrhea Fever  \\\n",
       "0                   NaN           NaN  ...                NaN      NaN  True   \n",
       "1                   NaN           NaN  ...                NaN      NaN   NaN   \n",
       "2                   NaN           NaN  ...                NaN      NaN   NaN   \n",
       "3                   NaN           NaN  ...                NaN      NaN  True   \n",
       "4                   NaN           NaN  ...                NaN      NaN   NaN   \n",
       "...                 ...           ...  ...                ...      ...   ...   \n",
       "1477                NaN           NaN  ...                NaN      NaN   NaN   \n",
       "1478                NaN           NaN  ...                NaN      NaN   NaN   \n",
       "1479                NaN           NaN  ...                NaN      NaN   NaN   \n",
       "1480                NaN           NaN  ...                NaN      NaN   NaN   \n",
       "1481                NaN           NaN  ...                NaN      NaN   NaN   \n",
       "\n",
       "     Coughing ShortnessOfBreath SoreThroat NauseaVomitting Temperature  \\\n",
       "0        True               NaN      False             NaN   38.111111   \n",
       "1         NaN               NaN        NaN             NaN         NaN   \n",
       "2         NaN               NaN        NaN             NaN         NaN   \n",
       "3        True               NaN      False             NaN   36.555556   \n",
       "4         NaN               NaN        NaN             NaN         NaN   \n",
       "...       ...               ...        ...             ...         ...   \n",
       "1477      NaN               NaN        NaN             NaN         NaN   \n",
       "1478      NaN               NaN        NaN             NaN         NaN   \n",
       "1479      NaN               NaN        NaN             NaN         NaN   \n",
       "1480      NaN               NaN        NaN             NaN         NaN   \n",
       "1481      NaN               NaN        NaN             NaN         NaN   \n",
       "\n",
       "      Fatigue isFemale  \n",
       "0       False     True  \n",
       "1         NaN    False  \n",
       "2         NaN     True  \n",
       "3        True     True  \n",
       "4         NaN    False  \n",
       "...       ...      ...  \n",
       "1477      NaN    False  \n",
       "1478      NaN    False  \n",
       "1479      NaN    False  \n",
       "1480      NaN    False  \n",
       "1481      NaN    False  \n",
       "\n",
       "[1482 rows x 21 columns]"
      ]
     },
     "execution_count": 38,
     "metadata": {},
     "output_type": "execute_result"
    }
   ],
   "source": [
    "covid_flu.replace({'Yes': True, 'No': False},inplace=False) "
   ]
  },
  {
   "cell_type": "markdown",
   "metadata": {},
   "source": [
    "**Xử lý liệu missing bằng phần tử xuất hiện nhiều nhất**"
   ]
  },
  {
   "cell_type": "code",
   "execution_count": 43,
   "metadata": {},
   "outputs": [
    {
     "name": "stdout",
     "output_type": "stream",
     "text": [
      "Coughing\n",
      "Yes    0.867288\n",
      "No     0.132712\n",
      "Name: proportion, dtype: float64\n",
      "0    Yes\n",
      "1    NaN\n",
      "2    NaN\n",
      "3    Yes\n",
      "4    NaN\n",
      "Name: Coughing, dtype: object\n",
      "[['Yes']\n",
      " ['Yes']\n",
      " ['Yes']\n",
      " ...\n",
      " ['Yes']\n",
      " ['Yes']\n",
      " ['Yes']]\n"
     ]
    }
   ],
   "source": [
    "cat_impute = SimpleImputer(strategy='most_frequent')\n",
    "print(covid_flu['Coughing'].value_counts(dropna=True, normalize=True))\n",
    "print(covid_flu['Coughing'].head())\n",
    "print(cat_impute.fit_transform(covid_flu[['Coughing']]))"
   ]
  },
  {
   "cell_type": "markdown",
   "metadata": {},
   "source": [
    "**Xử lý dữ liệu missing bằng phần tử cố định**"
   ]
  },
  {
   "cell_type": "markdown",
   "metadata": {},
   "source": [
    "Chúng ta có thể xem missing value như một nhãn mới và đặt nó là `UNKNOW`"
   ]
  },
  {
   "cell_type": "code",
   "execution_count": 45,
   "metadata": {},
   "outputs": [
    {
     "data": {
      "text/plain": [
       "array([['UNK'],\n",
       "       ['UNK'],\n",
       "       ['UNK'],\n",
       "       ...,\n",
       "       ['UNK'],\n",
       "       ['UNK'],\n",
       "       ['UNK']], dtype=object)"
      ]
     },
     "execution_count": 45,
     "metadata": {},
     "output_type": "execute_result"
    }
   ],
   "source": [
    "fill_with_unk = SimpleImputer(strategy='constant', fill_value=\"UNK\")\n",
    "fill_with_unk.fit_transform(covid_flu[['RiskFactors']])"
   ]
  },
  {
   "cell_type": "markdown",
   "metadata": {},
   "source": [
    "### Feature Construction"
   ]
  },
  {
   "cell_type": "markdown",
   "metadata": {},
   "source": [
    "#### Numerical feature transformattion"
   ]
  },
  {
   "cell_type": "markdown",
   "metadata": {},
   "source": [
    "**Log transformation**\n",
    "\n",
    "Chúng ta sử dụng log transformation khi phân phối dữ liệu quá lệch về bên trái, ví dụ như biến `lymphocytes` hầu hết các giá trị đều tập trung về giá trị 0. Vì hàm log không xác định khi giá trị bằng 0, do đó ta sử dụng log(1+x). Lưu ý biến đổi log chỉ áp dụng với dữ liệu mang giá trị dương"
   ]
  },
  {
   "cell_type": "code",
   "execution_count": 46,
   "metadata": {},
   "outputs": [
    {
     "data": {
      "text/plain": [
       "Text(0.5, 1.0, 'lymphocytes')"
      ]
     },
     "execution_count": 46,
     "metadata": {},
     "output_type": "execute_result"
    },
    {
     "data": {
      "image/png": "[encoded data removed]",
      "text/plain": [
       "<Figure size 640x480 with 1 Axes>"
      ]
     },
     "metadata": {},
     "output_type": "display_data"
    }
   ],
   "source": [
    "sns.histplot(covid_flu['lymphocytes'])\n",
    "plt.title(\"lymphocytes\")"
   ]
  },
  {
   "cell_type": "code",
   "execution_count": 49,
   "metadata": {},
   "outputs": [
    {
     "data": {
      "text/plain": [
       "Text(0.5, 1.0, 'lymphocytes')"
      ]
     },
     "execution_count": 49,
     "metadata": {},
     "output_type": "execute_result"
    },
    {
     "data": {
      "image/png": "[encoded data removed]",
      "text/plain": [
       "<Figure size 640x480 with 1 Axes>"
      ]
     },
     "metadata": {},
     "output_type": "display_data"
    }
   ],
   "source": [
    "sns.histplot(covid_flu['lymphocytes'].map(np.log1p))\n",
    "plt.title(\"lymphocytes\")"
   ]
  },
  {
   "cell_type": "markdown",
   "metadata": {},
   "source": [
    "**Box-cox**\n",
    "\n",
    "Box-cox là phương pháp biến đổi không được phổ biến nhưng khá là hữu ích, Box-cox giúp chuyển dữ liệu về phân phối chuẩn. Trong thư viện scikit-learn ta sử dụng `PowerTransformer` để áp dụng phương pháp này. Tương tự log, Box-cox cũng chỉ áp dụng cho các giá trị dương"
   ]
  },
  {
   "cell_type": "code",
   "execution_count": 50,
   "metadata": {},
   "outputs": [],
   "source": [
    "from sklearn.preprocessing import PowerTransformer"
   ]
  },
  {
   "cell_type": "code",
   "execution_count": 51,
   "metadata": {},
   "outputs": [],
   "source": [
    "power_trans = PowerTransformer(method='box-cox')"
   ]
  },
  {
   "cell_type": "code",
   "execution_count": 53,
   "metadata": {},
   "outputs": [
    {
     "data": {
      "text/plain": [
       "<Axes: ylabel='Count'>"
      ]
     },
     "execution_count": 53,
     "metadata": {},
     "output_type": "execute_result"
    },
    {
     "data": {
      "image/png": "[encoded data removed]",
      "text/plain": [
       "<Figure size 640x480 with 1 Axes>"
      ]
     },
     "metadata": {},
     "output_type": "display_data"
    }
   ],
   "source": [
    "sns.histplot(power_trans.fit_transform(covid_flu[['lymphocytes']]))"
   ]
  },
  {
   "cell_type": "markdown",
   "metadata": {},
   "source": [
    "Với biến `Age` có giá trị bằng 0, ta có thể cộng thêm 1 giá trị nhỏ để áp dụng box-cox"
   ]
  },
  {
   "cell_type": "code",
   "execution_count": 56,
   "metadata": {},
   "outputs": [
    {
     "data": {
      "text/html": [
       "<div>\n",
       "<style scoped>\n",
       "    .dataframe tbody tr th:only-of-type {\n",
       "        vertical-align: middle;\n",
       "    }\n",
       "\n",
       "    .dataframe tbody tr th {\n",
       "        vertical-align: top;\n",
       "    }\n",
       "\n",
       "    .dataframe thead th {\n",
       "        text-align: right;\n",
       "    }\n",
       "</style>\n",
       "<table border=\"1\" class=\"dataframe\">\n",
       "  <thead>\n",
       "    <tr style=\"text-align: right;\">\n",
       "      <th></th>\n",
       "      <th>Diagnosis</th>\n",
       "      <th>InitialPCRDiagnosis</th>\n",
       "      <th>Age</th>\n",
       "      <th>Sex</th>\n",
       "      <th>neutrophil</th>\n",
       "      <th>serumLevelsOfWhiteBloodCell</th>\n",
       "      <th>lymphocytes</th>\n",
       "      <th>CReactiveProteinLevels</th>\n",
       "      <th>DurationOfIllness</th>\n",
       "      <th>CTscanResults</th>\n",
       "      <th>...</th>\n",
       "      <th>GroundGlassOpacity</th>\n",
       "      <th>Diarrhea</th>\n",
       "      <th>Fever</th>\n",
       "      <th>Coughing</th>\n",
       "      <th>ShortnessOfBreath</th>\n",
       "      <th>SoreThroat</th>\n",
       "      <th>NauseaVomitting</th>\n",
       "      <th>Temperature</th>\n",
       "      <th>Fatigue</th>\n",
       "      <th>isFemale</th>\n",
       "    </tr>\n",
       "  </thead>\n",
       "  <tbody>\n",
       "    <tr>\n",
       "      <th>726</th>\n",
       "      <td>H1N1</td>\n",
       "      <td>NaN</td>\n",
       "      <td>0.0</td>\n",
       "      <td>M</td>\n",
       "      <td>NaN</td>\n",
       "      <td>NaN</td>\n",
       "      <td>NaN</td>\n",
       "      <td>NaN</td>\n",
       "      <td>NaN</td>\n",
       "      <td>NaN</td>\n",
       "      <td>...</td>\n",
       "      <td>NaN</td>\n",
       "      <td>Yes</td>\n",
       "      <td>Yes</td>\n",
       "      <td>Yes</td>\n",
       "      <td>NaN</td>\n",
       "      <td>Yes</td>\n",
       "      <td>No</td>\n",
       "      <td>NaN</td>\n",
       "      <td>NaN</td>\n",
       "      <td>False</td>\n",
       "    </tr>\n",
       "    <tr>\n",
       "      <th>727</th>\n",
       "      <td>H1N1</td>\n",
       "      <td>NaN</td>\n",
       "      <td>0.0</td>\n",
       "      <td>F</td>\n",
       "      <td>NaN</td>\n",
       "      <td>NaN</td>\n",
       "      <td>NaN</td>\n",
       "      <td>NaN</td>\n",
       "      <td>NaN</td>\n",
       "      <td>NaN</td>\n",
       "      <td>...</td>\n",
       "      <td>NaN</td>\n",
       "      <td>Yes</td>\n",
       "      <td>No</td>\n",
       "      <td>Yes</td>\n",
       "      <td>NaN</td>\n",
       "      <td>No</td>\n",
       "      <td>No</td>\n",
       "      <td>NaN</td>\n",
       "      <td>NaN</td>\n",
       "      <td>True</td>\n",
       "    </tr>\n",
       "    <tr>\n",
       "      <th>728</th>\n",
       "      <td>H1N1</td>\n",
       "      <td>NaN</td>\n",
       "      <td>0.0</td>\n",
       "      <td>F</td>\n",
       "      <td>NaN</td>\n",
       "      <td>NaN</td>\n",
       "      <td>NaN</td>\n",
       "      <td>NaN</td>\n",
       "      <td>NaN</td>\n",
       "      <td>NaN</td>\n",
       "      <td>...</td>\n",
       "      <td>NaN</td>\n",
       "      <td>No</td>\n",
       "      <td>No</td>\n",
       "      <td>Yes</td>\n",
       "      <td>NaN</td>\n",
       "      <td>Yes</td>\n",
       "      <td>No</td>\n",
       "      <td>NaN</td>\n",
       "      <td>NaN</td>\n",
       "      <td>True</td>\n",
       "    </tr>\n",
       "    <tr>\n",
       "      <th>729</th>\n",
       "      <td>H1N1</td>\n",
       "      <td>NaN</td>\n",
       "      <td>0.0</td>\n",
       "      <td>F</td>\n",
       "      <td>NaN</td>\n",
       "      <td>NaN</td>\n",
       "      <td>NaN</td>\n",
       "      <td>NaN</td>\n",
       "      <td>NaN</td>\n",
       "      <td>NaN</td>\n",
       "      <td>...</td>\n",
       "      <td>NaN</td>\n",
       "      <td>No</td>\n",
       "      <td>No</td>\n",
       "      <td>Yes</td>\n",
       "      <td>NaN</td>\n",
       "      <td>No</td>\n",
       "      <td>No</td>\n",
       "      <td>NaN</td>\n",
       "      <td>NaN</td>\n",
       "      <td>True</td>\n",
       "    </tr>\n",
       "    <tr>\n",
       "      <th>730</th>\n",
       "      <td>H1N1</td>\n",
       "      <td>NaN</td>\n",
       "      <td>0.0</td>\n",
       "      <td>F</td>\n",
       "      <td>NaN</td>\n",
       "      <td>NaN</td>\n",
       "      <td>NaN</td>\n",
       "      <td>NaN</td>\n",
       "      <td>NaN</td>\n",
       "      <td>NaN</td>\n",
       "      <td>...</td>\n",
       "      <td>NaN</td>\n",
       "      <td>Yes</td>\n",
       "      <td>Yes</td>\n",
       "      <td>Yes</td>\n",
       "      <td>NaN</td>\n",
       "      <td>Yes</td>\n",
       "      <td>No</td>\n",
       "      <td>NaN</td>\n",
       "      <td>NaN</td>\n",
       "      <td>True</td>\n",
       "    </tr>\n",
       "  </tbody>\n",
       "</table>\n",
       "<p>5 rows × 21 columns</p>\n",
       "</div>"
      ],
      "text/plain": [
       "    Diagnosis InitialPCRDiagnosis  Age Sex  neutrophil  \\\n",
       "726      H1N1                 NaN  0.0   M         NaN   \n",
       "727      H1N1                 NaN  0.0   F         NaN   \n",
       "728      H1N1                 NaN  0.0   F         NaN   \n",
       "729      H1N1                 NaN  0.0   F         NaN   \n",
       "730      H1N1                 NaN  0.0   F         NaN   \n",
       "\n",
       "     serumLevelsOfWhiteBloodCell  lymphocytes CReactiveProteinLevels  \\\n",
       "726                          NaN          NaN                    NaN   \n",
       "727                          NaN          NaN                    NaN   \n",
       "728                          NaN          NaN                    NaN   \n",
       "729                          NaN          NaN                    NaN   \n",
       "730                          NaN          NaN                    NaN   \n",
       "\n",
       "     DurationOfIllness CTscanResults  ... GroundGlassOpacity Diarrhea Fever  \\\n",
       "726                NaN           NaN  ...                NaN      Yes   Yes   \n",
       "727                NaN           NaN  ...                NaN      Yes    No   \n",
       "728                NaN           NaN  ...                NaN       No    No   \n",
       "729                NaN           NaN  ...                NaN       No    No   \n",
       "730                NaN           NaN  ...                NaN      Yes   Yes   \n",
       "\n",
       "    Coughing ShortnessOfBreath SoreThroat NauseaVomitting Temperature  \\\n",
       "726      Yes               NaN        Yes              No         NaN   \n",
       "727      Yes               NaN         No              No         NaN   \n",
       "728      Yes               NaN        Yes              No         NaN   \n",
       "729      Yes               NaN         No              No         NaN   \n",
       "730      Yes               NaN        Yes              No         NaN   \n",
       "\n",
       "     Fatigue isFemale  \n",
       "726      NaN    False  \n",
       "727      NaN     True  \n",
       "728      NaN     True  \n",
       "729      NaN     True  \n",
       "730      NaN     True  \n",
       "\n",
       "[5 rows x 21 columns]"
      ]
     },
     "execution_count": 56,
     "metadata": {},
     "output_type": "execute_result"
    }
   ],
   "source": [
    "covid_flu[covid_flu['Age']==0].head()"
   ]
  },
  {
   "cell_type": "code",
   "execution_count": 57,
   "metadata": {},
   "outputs": [],
   "source": [
    "covid_flu['Age'] = covid_flu['Age'] + 0.01"
   ]
  },
  {
   "cell_type": "code",
   "execution_count": 58,
   "metadata": {},
   "outputs": [
    {
     "data": {
      "text/plain": [
       "<Axes: ylabel='Count'>"
      ]
     },
     "execution_count": 58,
     "metadata": {},
     "output_type": "execute_result"
    },
    {
     "data": {
      "image/png": "[encoded data removed]",
      "text/plain": [
       "<Figure size 640x480 with 1 Axes>"
      ]
     },
     "metadata": {},
     "output_type": "display_data"
    }
   ],
   "source": [
    "sns.histplot(power_trans.fit_transform(covid_flu[['Age']]))"
   ]
  },
  {
   "cell_type": "code",
   "execution_count": null,
   "metadata": {},
   "outputs": [],
   "source": []
  }
 ],
 "metadata": {
  "kernelspec": {
   "display_name": "base",
   "language": "python",
   "name": "python3"
  },
  "language_info": {
   "codemirror_mode": {
    "name": "ipython",
    "version": 3
   },
   "file_extension": ".py",
   "mimetype": "text/x-python",
   "name": "python",
   "nbconvert_exporter": "python",
   "pygments_lexer": "ipython3",
   "version": "3.10.9"
  }
 },
 "nbformat": 4,
 "nbformat_minor": 2
}

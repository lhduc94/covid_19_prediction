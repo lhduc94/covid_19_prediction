{
 "cells": [
  {
   "cell_type": "code",
   "execution_count": null,
   "metadata": {},
   "outputs": [],
   "source": []
  },
  {
   "cell_type": "code",
   "execution_count": 1,
   "metadata": {},
   "outputs": [],
   "source": [
    "import pandas as pd\n",
    "import numpy as np\n",
    "import matplotlib.pyplot as plt\n",
    "import seaborn as sns\n",
    "import warnings\n",
    "warnings.simplefilter(action='ignore', category=FutureWarning)"
   ]
  },
  {
   "cell_type": "code",
   "execution_count": 2,
   "metadata": {},
   "outputs": [
    {
     "data": {
      "text/html": [
       "<div>\n",
       "<style scoped>\n",
       "    .dataframe tbody tr th:only-of-type {\n",
       "        vertical-align: middle;\n",
       "    }\n",
       "\n",
       "    .dataframe tbody tr th {\n",
       "        vertical-align: top;\n",
       "    }\n",
       "\n",
       "    .dataframe thead th {\n",
       "        text-align: right;\n",
       "    }\n",
       "</style>\n",
       "<table border=\"1\" class=\"dataframe\">\n",
       "  <thead>\n",
       "    <tr style=\"text-align: right;\">\n",
       "      <th></th>\n",
       "      <th>Diagnosis</th>\n",
       "      <th>InitialPCRDiagnosis</th>\n",
       "      <th>Age</th>\n",
       "      <th>Sex</th>\n",
       "      <th>neutrophil</th>\n",
       "      <th>serumLevelsOfWhiteBloodCell</th>\n",
       "      <th>lymphocytes</th>\n",
       "      <th>CReactiveProteinLevels</th>\n",
       "      <th>DurationOfIllness</th>\n",
       "      <th>CTscanResults</th>\n",
       "      <th>RiskFactors</th>\n",
       "      <th>GroundGlassOpacity</th>\n",
       "      <th>Diarrhea</th>\n",
       "      <th>Fever</th>\n",
       "      <th>Coughing</th>\n",
       "      <th>ShortnessOfBreath</th>\n",
       "      <th>SoreThroat</th>\n",
       "      <th>NauseaVomitting</th>\n",
       "      <th>Temperature</th>\n",
       "      <th>Fatigue</th>\n",
       "    </tr>\n",
       "  </thead>\n",
       "  <tbody>\n",
       "    <tr>\n",
       "      <th>0</th>\n",
       "      <td>H1N1</td>\n",
       "      <td>NaN</td>\n",
       "      <td>67.0</td>\n",
       "      <td>F</td>\n",
       "      <td>NaN</td>\n",
       "      <td>NaN</td>\n",
       "      <td>NaN</td>\n",
       "      <td>NaN</td>\n",
       "      <td>NaN</td>\n",
       "      <td>NaN</td>\n",
       "      <td>NaN</td>\n",
       "      <td>NaN</td>\n",
       "      <td>NaN</td>\n",
       "      <td>Yes</td>\n",
       "      <td>Yes</td>\n",
       "      <td>NaN</td>\n",
       "      <td>No</td>\n",
       "      <td>NaN</td>\n",
       "      <td>38.111111</td>\n",
       "      <td>No</td>\n",
       "    </tr>\n",
       "    <tr>\n",
       "      <th>1</th>\n",
       "      <td>H1N1</td>\n",
       "      <td>NaN</td>\n",
       "      <td>29.0</td>\n",
       "      <td>M</td>\n",
       "      <td>NaN</td>\n",
       "      <td>NaN</td>\n",
       "      <td>NaN</td>\n",
       "      <td>NaN</td>\n",
       "      <td>NaN</td>\n",
       "      <td>NaN</td>\n",
       "      <td>NaN</td>\n",
       "      <td>NaN</td>\n",
       "      <td>NaN</td>\n",
       "      <td>NaN</td>\n",
       "      <td>NaN</td>\n",
       "      <td>NaN</td>\n",
       "      <td>NaN</td>\n",
       "      <td>NaN</td>\n",
       "      <td>NaN</td>\n",
       "      <td>NaN</td>\n",
       "    </tr>\n",
       "    <tr>\n",
       "      <th>2</th>\n",
       "      <td>H1N1</td>\n",
       "      <td>NaN</td>\n",
       "      <td>22.0</td>\n",
       "      <td>F</td>\n",
       "      <td>NaN</td>\n",
       "      <td>NaN</td>\n",
       "      <td>NaN</td>\n",
       "      <td>NaN</td>\n",
       "      <td>NaN</td>\n",
       "      <td>NaN</td>\n",
       "      <td>NaN</td>\n",
       "      <td>NaN</td>\n",
       "      <td>NaN</td>\n",
       "      <td>NaN</td>\n",
       "      <td>NaN</td>\n",
       "      <td>NaN</td>\n",
       "      <td>NaN</td>\n",
       "      <td>NaN</td>\n",
       "      <td>NaN</td>\n",
       "      <td>NaN</td>\n",
       "    </tr>\n",
       "    <tr>\n",
       "      <th>3</th>\n",
       "      <td>H1N1</td>\n",
       "      <td>NaN</td>\n",
       "      <td>20.0</td>\n",
       "      <td>F</td>\n",
       "      <td>NaN</td>\n",
       "      <td>NaN</td>\n",
       "      <td>NaN</td>\n",
       "      <td>NaN</td>\n",
       "      <td>NaN</td>\n",
       "      <td>NaN</td>\n",
       "      <td>immuno</td>\n",
       "      <td>NaN</td>\n",
       "      <td>NaN</td>\n",
       "      <td>Yes</td>\n",
       "      <td>Yes</td>\n",
       "      <td>NaN</td>\n",
       "      <td>No</td>\n",
       "      <td>NaN</td>\n",
       "      <td>36.555556</td>\n",
       "      <td>Yes</td>\n",
       "    </tr>\n",
       "    <tr>\n",
       "      <th>4</th>\n",
       "      <td>H1N1</td>\n",
       "      <td>NaN</td>\n",
       "      <td>21.0</td>\n",
       "      <td>M</td>\n",
       "      <td>NaN</td>\n",
       "      <td>NaN</td>\n",
       "      <td>NaN</td>\n",
       "      <td>NaN</td>\n",
       "      <td>NaN</td>\n",
       "      <td>NaN</td>\n",
       "      <td>NaN</td>\n",
       "      <td>NaN</td>\n",
       "      <td>NaN</td>\n",
       "      <td>NaN</td>\n",
       "      <td>NaN</td>\n",
       "      <td>NaN</td>\n",
       "      <td>NaN</td>\n",
       "      <td>NaN</td>\n",
       "      <td>NaN</td>\n",
       "      <td>NaN</td>\n",
       "    </tr>\n",
       "  </tbody>\n",
       "</table>\n",
       "</div>"
      ],
      "text/plain": [
       "  Diagnosis InitialPCRDiagnosis   Age Sex  neutrophil  \\\n",
       "0      H1N1                 NaN  67.0   F         NaN   \n",
       "1      H1N1                 NaN  29.0   M         NaN   \n",
       "2      H1N1                 NaN  22.0   F         NaN   \n",
       "3      H1N1                 NaN  20.0   F         NaN   \n",
       "4      H1N1                 NaN  21.0   M         NaN   \n",
       "\n",
       "   serumLevelsOfWhiteBloodCell  lymphocytes CReactiveProteinLevels  \\\n",
       "0                          NaN          NaN                    NaN   \n",
       "1                          NaN          NaN                    NaN   \n",
       "2                          NaN          NaN                    NaN   \n",
       "3                          NaN          NaN                    NaN   \n",
       "4                          NaN          NaN                    NaN   \n",
       "\n",
       "   DurationOfIllness CTscanResults RiskFactors GroundGlassOpacity Diarrhea  \\\n",
       "0                NaN           NaN         NaN                NaN      NaN   \n",
       "1                NaN           NaN         NaN                NaN      NaN   \n",
       "2                NaN           NaN         NaN                NaN      NaN   \n",
       "3                NaN           NaN      immuno                NaN      NaN   \n",
       "4                NaN           NaN         NaN                NaN      NaN   \n",
       "\n",
       "  Fever Coughing ShortnessOfBreath SoreThroat NauseaVomitting  Temperature  \\\n",
       "0   Yes      Yes               NaN         No             NaN    38.111111   \n",
       "1   NaN      NaN               NaN        NaN             NaN          NaN   \n",
       "2   NaN      NaN               NaN        NaN             NaN          NaN   \n",
       "3   Yes      Yes               NaN         No             NaN    36.555556   \n",
       "4   NaN      NaN               NaN        NaN             NaN          NaN   \n",
       "\n",
       "  Fatigue  \n",
       "0      No  \n",
       "1     NaN  \n",
       "2     NaN  \n",
       "3     Yes  \n",
       "4     NaN  "
      ]
     },
     "execution_count": 2,
     "metadata": {},
     "output_type": "execute_result"
    }
   ],
   "source": [
    "covid_flu = pd.read_csv('../data/covid_flu.csv')\n",
    "covid_flu.head()"
   ]
  },
  {
   "cell_type": "markdown",
   "metadata": {},
   "source": [
    "Kiểm tra các cột có bao nhiêu phần tử Null"
   ]
  },
  {
   "cell_type": "code",
   "execution_count": 3,
   "metadata": {},
   "outputs": [
    {
     "data": {
      "text/plain": [
       "Diagnosis                      0.000000\n",
       "Age                            0.018893\n",
       "Sex                            0.051282\n",
       "Fever                          0.377193\n",
       "Coughing                       0.420378\n",
       "SoreThroat                     0.547908\n",
       "Temperature                    0.576248\n",
       "Fatigue                        0.641700\n",
       "Diarrhea                       0.696356\n",
       "NauseaVomitting                0.715924\n",
       "RiskFactors                    0.858974\n",
       "CTscanResults                  0.892713\n",
       "lymphocytes                    0.894737\n",
       "serumLevelsOfWhiteBloodCell    0.898111\n",
       "CReactiveProteinLevels         0.907557\n",
       "InitialPCRDiagnosis            0.929825\n",
       "neutrophil                     0.930499\n",
       "GroundGlassOpacity             0.937247\n",
       "DurationOfIllness              0.941296\n",
       "ShortnessOfBreath              0.949393\n",
       "dtype: float64"
      ]
     },
     "execution_count": 3,
     "metadata": {},
     "output_type": "execute_result"
    }
   ],
   "source": [
    "covid_flu.isnull().mean().sort_values()"
   ]
  },
  {
   "cell_type": "markdown",
   "metadata": {},
   "source": [
    "Kiểm tra datatypes"
   ]
  },
  {
   "cell_type": "code",
   "execution_count": 4,
   "metadata": {},
   "outputs": [
    {
     "name": "stdout",
     "output_type": "stream",
     "text": [
      "<class 'pandas.core.frame.DataFrame'>\n",
      "RangeIndex: 1482 entries, 0 to 1481\n",
      "Data columns (total 20 columns):\n",
      " #   Column                       Non-Null Count  Dtype  \n",
      "---  ------                       --------------  -----  \n",
      " 0   Diagnosis                    1482 non-null   object \n",
      " 1   InitialPCRDiagnosis          104 non-null    object \n",
      " 2   Age                          1454 non-null   float64\n",
      " 3   Sex                          1406 non-null   object \n",
      " 4   neutrophil                   103 non-null    float64\n",
      " 5   serumLevelsOfWhiteBloodCell  151 non-null    float64\n",
      " 6   lymphocytes                  156 non-null    float64\n",
      " 7   CReactiveProteinLevels       137 non-null    object \n",
      " 8   DurationOfIllness            87 non-null     float64\n",
      " 9   CTscanResults                159 non-null    object \n",
      " 10  RiskFactors                  209 non-null    object \n",
      " 11  GroundGlassOpacity           93 non-null     object \n",
      " 12  Diarrhea                     450 non-null    object \n",
      " 13  Fever                        923 non-null    object \n",
      " 14  Coughing                     859 non-null    object \n",
      " 15  ShortnessOfBreath            75 non-null     object \n",
      " 16  SoreThroat                   670 non-null    object \n",
      " 17  NauseaVomitting              421 non-null    object \n",
      " 18  Temperature                  628 non-null    float64\n",
      " 19  Fatigue                      531 non-null    object \n",
      "dtypes: float64(6), object(14)\n",
      "memory usage: 231.7+ KB\n"
     ]
    }
   ],
   "source": [
    "covid_flu.info()"
   ]
  },
  {
   "cell_type": "markdown",
   "metadata": {},
   "source": [
    "### Feature Improvement"
   ]
  },
  {
   "cell_type": "markdown",
   "metadata": {},
   "source": [
    "#### Xử lý dữ liệu định lượng"
   ]
  },
  {
   "cell_type": "markdown",
   "metadata": {},
   "source": [
    "Những cột dữ liệu định lượng có kiểu dữ liệu `float` hoặc `int`"
   ]
  },
  {
   "cell_type": "code",
   "execution_count": 5,
   "metadata": {},
   "outputs": [
    {
     "name": "stdout",
     "output_type": "stream",
     "text": [
      "Age                            0.018893\n",
      "Temperature                    0.576248\n",
      "lymphocytes                    0.894737\n",
      "serumLevelsOfWhiteBloodCell    0.898111\n",
      "neutrophil                     0.930499\n",
      "DurationOfIllness              0.941296\n",
      "dtype: float64\n"
     ]
    }
   ],
   "source": [
    "numeric_type = ['float16', 'float32', 'float64', 'int16', 'int32', 'int64']\n",
    "# numerical_columns = covid_flu.select_dtypes(numeric_type).columns.tolist()\n",
    "numerical_columns = [col for col in covid_flu.columns if covid_flu[col].dtypes in numeric_type]\n",
    "print(covid_flu[numerical_columns].isnull().mean().sort_values())"
   ]
  },
  {
   "cell_type": "markdown",
   "metadata": {},
   "source": [
    "**Xử lý missing value bằng mean/median**"
   ]
  },
  {
   "cell_type": "markdown",
   "metadata": {},
   "source": [
    "Chúng ta có thể dùng thư viện SimpleImputer của Scikit learn"
   ]
  },
  {
   "cell_type": "code",
   "execution_count": 6,
   "metadata": {},
   "outputs": [
    {
     "name": "stdout",
     "output_type": "stream",
     "text": [
      "1.8501538461538463\n",
      "[[1.85015385]\n",
      " [1.85015385]\n",
      " [1.85015385]\n",
      " ...\n",
      " [1.85015385]\n",
      " [1.85015385]\n",
      " [1.85015385]]\n"
     ]
    }
   ],
   "source": [
    "from sklearn.impute import SimpleImputer\n",
    "num_impute = SimpleImputer(strategy='mean')\n",
    "print(covid_flu['lymphocytes'].mean())\n",
    "print(num_impute.fit_transform(covid_flu[['lymphocytes']]))"
   ]
  },
  {
   "cell_type": "markdown",
   "metadata": {},
   "source": [
    "**Xử lý missing value bằng giá trị cụ thể**"
   ]
  },
  {
   "cell_type": "markdown",
   "metadata": {},
   "source": [
    "Chúng ta có thể thay thế các giá trị bị khuyết thiếu bằng các giá trị cụ thể như -1, 0, 99, 999 cho biết rằng giá trị này không bị thiếu một cách ngẫu nhiên. Các giá trị này phải nằm ngoài khoảng giá trị của dữ liệu, ví dụ với nhiệt độ sẽ nằm trong khoảng 0-100 thì việc thay thế bằng 99 sẽ không hợp lý, do đó chúng ta chọn thay thế bằng số 999"
   ]
  },
  {
   "cell_type": "code",
   "execution_count": 7,
   "metadata": {},
   "outputs": [
    {
     "data": {
      "text/plain": [
       "array([[ 67.        , 999.        , 999.        , 999.        ,\n",
       "        999.        ,  38.11111111],\n",
       "       [ 29.        , 999.        , 999.        , 999.        ,\n",
       "        999.        , 999.        ],\n",
       "       [ 22.        , 999.        , 999.        , 999.        ,\n",
       "        999.        , 999.        ],\n",
       "       ...,\n",
       "       [  3.        , 999.        ,  15.        , 999.        ,\n",
       "        999.        , 999.        ],\n",
       "       [  4.        , 999.        ,   6.6       , 999.        ,\n",
       "        999.        , 999.        ],\n",
       "       [  6.        , 999.        ,   5.3       , 999.        ,\n",
       "        999.        , 999.        ]])"
      ]
     },
     "execution_count": 7,
     "metadata": {},
     "output_type": "execute_result"
    }
   ],
   "source": [
    "arbitrary_imputer = SimpleImputer(strategy='constant', fill_value=999)\n",
    "arbitrary_imputer.fit_transform(covid_flu[numerical_columns])"
   ]
  },
  {
   "cell_type": "markdown",
   "metadata": {},
   "source": [
    "**Xử lý missing value bằng IQR**"
   ]
  },
  {
   "cell_type": "markdown",
   "metadata": {},
   "source": [
    "- Nếu biến là phân phối chuẩn, giá trị điền vào nên là mean + 3 * std\n",
    "- Nếu biến có phân phối bị skewed, chúng ta sử dụng IQR để thêm giá trị cố định bằng cách dùng IQR * 1.5\n",
    "\n",
    "![img](../images/missing_value_iqr.png)\n",
    "\n",
    "Để áp dụng phương pháp này, ta dùng `EndTailImputer`  của thư viện feature-engine"
   ]
  },
  {
   "cell_type": "markdown",
   "metadata": {},
   "source": []
  },
  {
   "cell_type": "code",
   "execution_count": 8,
   "metadata": {},
   "outputs": [
    {
     "data": {
      "text/plain": [
       "Text(0.5, 1.0, 'lymphocytes')"
      ]
     },
     "execution_count": 8,
     "metadata": {},
     "output_type": "execute_result"
    },
    {
     "data": {
      "image/png": "[encoded data removed]",
      "text/plain": [
       "<Figure size 640x480 with 1 Axes>"
      ]
     },
     "metadata": {},
     "output_type": "display_data"
    }
   ],
   "source": [
    "sns.histplot(covid_flu['lymphocytes'])\n",
    "plt.title(\"lymphocytes\")"
   ]
  },
  {
   "cell_type": "code",
   "execution_count": 9,
   "metadata": {},
   "outputs": [],
   "source": [
    "from feature_engine.imputation import EndTailImputer"
   ]
  },
  {
   "cell_type": "code",
   "execution_count": 10,
   "metadata": {},
   "outputs": [
    {
     "name": "stdout",
     "output_type": "stream",
     "text": [
      "13.72015880654883\n"
     ]
    },
    {
     "data": {
      "text/plain": [
       "lymphocytes    30.6\n",
       "dtype: float64"
      ]
     },
     "execution_count": 10,
     "metadata": {},
     "output_type": "execute_result"
    }
   ],
   "source": [
    "eti = EndTailImputer(imputation_method='gaussian', tail='right', fold=3)\n",
    "print(covid_flu['lymphocytes'].mean() + 3 * covid_flu['lymphocytes'].std())\n",
    "eti.fit_transform(covid_flu[['lymphocytes']]).max()"
   ]
  },
  {
   "cell_type": "code",
   "execution_count": 11,
   "metadata": {},
   "outputs": [
    {
     "data": {
      "text/plain": [
       "<Axes: ylabel='Count'>"
      ]
     },
     "execution_count": 11,
     "metadata": {},
     "output_type": "execute_result"
    },
    {
     "data": {
      "image/png": "[encoded data removed]",
      "text/plain": [
       "<Figure size 640x480 with 1 Axes>"
      ]
     },
     "metadata": {},
     "output_type": "display_data"
    }
   ],
   "source": [
    "sns.histplot(eti.fit_transform(covid_flu[['lymphocytes']]))"
   ]
  },
  {
   "cell_type": "markdown",
   "metadata": {},
   "source": [
    "#### Xử lý dữ liệu định tính"
   ]
  },
  {
   "cell_type": "markdown",
   "metadata": {},
   "source": []
  },
  {
   "cell_type": "code",
   "execution_count": 12,
   "metadata": {},
   "outputs": [
    {
     "name": "stdout",
     "output_type": "stream",
     "text": [
      "=======\n",
      "InitialPCRDiagnosis\n",
      "=======\n",
      "InitialPCRDiagnosis\n",
      "NaN    1378\n",
      "Yes     100\n",
      "No        4\n",
      "Name: count, dtype: int64\n",
      "=======\n",
      "Sex\n",
      "=======\n",
      "Sex\n",
      "M      748\n",
      "F      658\n",
      "NaN     76\n",
      "Name: count, dtype: int64\n",
      "=======\n",
      "CReactiveProteinLevels\n",
      "=======\n",
      "CReactiveProteinLevels\n",
      "NaN           1345\n",
      "8                3\n",
      "0.5              3\n",
      "15               3\n",
      "111              2\n",
      "              ... \n",
      "5.78             1\n",
      "67.62            1\n",
      "13.2 mg/dL       1\n",
      "21.27            1\n",
      "0.6              1\n",
      "Name: count, Length: 121, dtype: int64\n",
      "=======\n",
      "CTscanResults\n",
      "=======\n",
      "CTscanResults\n",
      "NaN    1323\n",
      "Yes     144\n",
      "No       15\n",
      "Name: count, dtype: int64\n",
      "=======\n",
      "RiskFactors\n",
      "=======\n",
      "RiskFactors\n",
      "NaN                                                                   1273\n",
      "asthma                                                                  36\n",
      "pneumonia                                                               21\n",
      "immuno                                                                  21\n",
      "diabetes                                                                16\n",
      "                                                                      ... \n",
      "diabetes, Hypertension                                                   1\n",
      "Hypertension, Heart Disease, chronic obstructive pulmonary disease       1\n",
      "rheumatoid arthritis                                                     1\n",
      "hematological disease, immuno, Renal Disease                             1\n",
      "Lung Disease                                                             1\n",
      "Name: count, Length: 64, dtype: int64\n",
      "=======\n",
      "GroundGlassOpacity\n",
      "=======\n",
      "GroundGlassOpacity\n",
      "NaN    1389\n",
      "Yes      90\n",
      "No        3\n",
      "Name: count, dtype: int64\n",
      "=======\n",
      "Diarrhea\n",
      "=======\n",
      "Diarrhea\n",
      "NaN    1032\n",
      "No      340\n",
      "Yes     110\n",
      "Name: count, dtype: int64\n",
      "=======\n",
      "Fever\n",
      "=======\n",
      "Fever\n",
      "Yes    777\n",
      "NaN    559\n",
      "No     146\n",
      "Name: count, dtype: int64\n",
      "=======\n",
      "Coughing\n",
      "=======\n",
      "Coughing\n",
      "Yes    745\n",
      "NaN    623\n",
      "No     114\n",
      "Name: count, dtype: int64\n",
      "=======\n",
      "ShortnessOfBreath\n",
      "=======\n",
      "ShortnessOfBreath\n",
      "NaN    1407\n",
      "Yes      45\n",
      "No       30\n",
      "Name: count, dtype: int64\n",
      "=======\n",
      "SoreThroat\n",
      "=======\n",
      "SoreThroat\n",
      "NaN    812\n",
      "Yes    407\n",
      "No     263\n",
      "Name: count, dtype: int64\n",
      "=======\n",
      "NauseaVomitting\n",
      "=======\n",
      "NauseaVomitting\n",
      "NaN    1061\n",
      "No      319\n",
      "Yes     102\n",
      "Name: count, dtype: int64\n",
      "=======\n",
      "Fatigue\n",
      "=======\n",
      "Fatigue\n",
      "NaN    951\n",
      "Yes    348\n",
      "No     183\n",
      "Name: count, dtype: int64\n"
     ]
    }
   ],
   "source": [
    "categorical_columns = [col for col in covid_flu.columns if covid_flu[col].dtypes=='object']\n",
    "categorical_columns.remove('Diagnosis')\n",
    "for categorical_column in categorical_columns:\n",
    "    print('=======')\n",
    "    print(categorical_column)\n",
    "    print('=======')\n",
    "    print(covid_flu[categorical_column].value_counts(dropna=False))"
   ]
  },
  {
   "cell_type": "markdown",
   "metadata": {},
   "source": [
    "Trong các biến categorical, có hai biến `CReactiveProteinLevels` và `RiskFactors` biến có nhiều giá trị khác nhau, còn lại là các biến nhị phân. \n",
    "\n",
    "Ta tập trung phân tích biến nhị phân trước, cột `Sex` có giá trị là `M` và `F` trong khi các cột khác có giá trị `Yes`, `No`, do đó ta cũng biến đổi cột Sex sang giá trị này"
   ]
  },
  {
   "cell_type": "code",
   "execution_count": 13,
   "metadata": {},
   "outputs": [],
   "source": [
    "covid_flu['isFemale'] = covid_flu['Sex'] == 'F'"
   ]
  },
  {
   "cell_type": "code",
   "execution_count": 14,
   "metadata": {},
   "outputs": [],
   "source": [
    "covid_flu.replace({'Yes': True, 'No': False},inplace=True) "
   ]
  },
  {
   "cell_type": "markdown",
   "metadata": {},
   "source": [
    "**Xử lý liệu missing bằng phần tử xuất hiện nhiều nhất**"
   ]
  },
  {
   "cell_type": "code",
   "execution_count": 15,
   "metadata": {},
   "outputs": [
    {
     "name": "stdout",
     "output_type": "stream",
     "text": [
      "Coughing\n",
      "True     0.867288\n",
      "False    0.132712\n",
      "Name: proportion, dtype: float64\n",
      "0    True\n",
      "1     NaN\n",
      "2     NaN\n",
      "3    True\n",
      "4     NaN\n",
      "Name: Coughing, dtype: object\n",
      "[[True]\n",
      " [True]\n",
      " [True]\n",
      " ...\n",
      " [True]\n",
      " [True]\n",
      " [True]]\n"
     ]
    }
   ],
   "source": [
    "cat_impute = SimpleImputer(strategy='most_frequent')\n",
    "print(covid_flu['Coughing'].value_counts(dropna=True, normalize=True))\n",
    "print(covid_flu['Coughing'].head())\n",
    "print(cat_impute.fit_transform(covid_flu[['Coughing']]))"
   ]
  },
  {
   "cell_type": "markdown",
   "metadata": {},
   "source": [
    "**Xử lý dữ liệu missing bằng phần tử cố định**"
   ]
  },
  {
   "cell_type": "markdown",
   "metadata": {},
   "source": [
    "Chúng ta có thể xem missing value như một nhãn mới và đặt nó là `UNKNOW`"
   ]
  },
  {
   "cell_type": "code",
   "execution_count": 16,
   "metadata": {},
   "outputs": [
    {
     "data": {
      "text/plain": [
       "array([['UNK'],\n",
       "       ['UNK'],\n",
       "       ['UNK'],\n",
       "       ...,\n",
       "       ['UNK'],\n",
       "       ['UNK'],\n",
       "       ['UNK']], dtype=object)"
      ]
     },
     "execution_count": 16,
     "metadata": {},
     "output_type": "execute_result"
    }
   ],
   "source": [
    "fill_with_unk = SimpleImputer(strategy='constant', fill_value=\"UNK\")\n",
    "fill_with_unk.fit_transform(covid_flu[['RiskFactors']])"
   ]
  },
  {
   "cell_type": "markdown",
   "metadata": {},
   "source": [
    "### Feature Construction"
   ]
  },
  {
   "cell_type": "markdown",
   "metadata": {},
   "source": [
    "#### Numerical feature transformattion"
   ]
  },
  {
   "cell_type": "markdown",
   "metadata": {},
   "source": [
    "**Log transformation**\n",
    "\n",
    "Chúng ta sử dụng log transformation khi phân phối dữ liệu quá lệch về bên trái, ví dụ như biến `lymphocytes` hầu hết các giá trị đều tập trung về giá trị 0. Vì hàm log không xác định khi giá trị bằng 0, do đó ta sử dụng log(1+x). Lưu ý biến đổi log chỉ áp dụng với dữ liệu mang giá trị dương"
   ]
  },
  {
   "cell_type": "code",
   "execution_count": 17,
   "metadata": {},
   "outputs": [
    {
     "data": {
      "text/plain": [
       "Text(0.5, 1.0, 'lymphocytes')"
      ]
     },
     "execution_count": 17,
     "metadata": {},
     "output_type": "execute_result"
    },
    {
     "data": {
      "image/png": "[encoded data removed]",
      "text/plain": [
       "<Figure size 640x480 with 1 Axes>"
      ]
     },
     "metadata": {},
     "output_type": "display_data"
    }
   ],
   "source": [
    "sns.histplot(covid_flu['lymphocytes'])\n",
    "plt.title(\"lymphocytes\")"
   ]
  },
  {
   "cell_type": "code",
   "execution_count": 18,
   "metadata": {},
   "outputs": [
    {
     "data": {
      "text/plain": [
       "Text(0.5, 1.0, 'lymphocytes')"
      ]
     },
     "execution_count": 18,
     "metadata": {},
     "output_type": "execute_result"
    },
    {
     "data": {
      "image/png": "[encoded data removed]",
      "text/plain": [
       "<Figure size 640x480 with 1 Axes>"
      ]
     },
     "metadata": {},
     "output_type": "display_data"
    }
   ],
   "source": [
    "sns.histplot(covid_flu['lymphocytes'].map(np.log1p))\n",
    "plt.title(\"lymphocytes\")"
   ]
  },
  {
   "cell_type": "markdown",
   "metadata": {},
   "source": [
    "**Box-cox**\n",
    "\n",
    "Box-cox là phương pháp biến đổi không được phổ biến nhưng khá là hữu ích, Box-cox giúp chuyển dữ liệu về phân phối chuẩn. Trong thư viện scikit-learn ta sử dụng `PowerTransformer` để áp dụng phương pháp này. Tương tự log, Box-cox cũng chỉ áp dụng cho các giá trị dương"
   ]
  },
  {
   "cell_type": "code",
   "execution_count": 19,
   "metadata": {},
   "outputs": [],
   "source": [
    "from sklearn.preprocessing import PowerTransformer"
   ]
  },
  {
   "cell_type": "code",
   "execution_count": 20,
   "metadata": {},
   "outputs": [],
   "source": [
    "power_trans = PowerTransformer(method='box-cox')"
   ]
  },
  {
   "cell_type": "code",
   "execution_count": 21,
   "metadata": {},
   "outputs": [
    {
     "data": {
      "text/plain": [
       "<Axes: ylabel='Count'>"
      ]
     },
     "execution_count": 21,
     "metadata": {},
     "output_type": "execute_result"
    },
    {
     "data": {
      "image/png": "[encoded data removed]",
      "text/plain": [
       "<Figure size 640x480 with 1 Axes>"
      ]
     },
     "metadata": {},
     "output_type": "display_data"
    }
   ],
   "source": [
    "sns.histplot(power_trans.fit_transform(covid_flu[['lymphocytes']]))"
   ]
  },
  {
   "cell_type": "markdown",
   "metadata": {},
   "source": [
    "Với biến `Age` có giá trị bằng 0, ta có thể cộng thêm 1 giá trị nhỏ để áp dụng box-cox"
   ]
  },
  {
   "cell_type": "code",
   "execution_count": 22,
   "metadata": {},
   "outputs": [
    {
     "data": {
      "text/html": [
       "<div>\n",
       "<style scoped>\n",
       "    .dataframe tbody tr th:only-of-type {\n",
       "        vertical-align: middle;\n",
       "    }\n",
       "\n",
       "    .dataframe tbody tr th {\n",
       "        vertical-align: top;\n",
       "    }\n",
       "\n",
       "    .dataframe thead th {\n",
       "        text-align: right;\n",
       "    }\n",
       "</style>\n",
       "<table border=\"1\" class=\"dataframe\">\n",
       "  <thead>\n",
       "    <tr style=\"text-align: right;\">\n",
       "      <th></th>\n",
       "      <th>Diagnosis</th>\n",
       "      <th>InitialPCRDiagnosis</th>\n",
       "      <th>Age</th>\n",
       "      <th>Sex</th>\n",
       "      <th>neutrophil</th>\n",
       "      <th>serumLevelsOfWhiteBloodCell</th>\n",
       "      <th>lymphocytes</th>\n",
       "      <th>CReactiveProteinLevels</th>\n",
       "      <th>DurationOfIllness</th>\n",
       "      <th>CTscanResults</th>\n",
       "      <th>...</th>\n",
       "      <th>GroundGlassOpacity</th>\n",
       "      <th>Diarrhea</th>\n",
       "      <th>Fever</th>\n",
       "      <th>Coughing</th>\n",
       "      <th>ShortnessOfBreath</th>\n",
       "      <th>SoreThroat</th>\n",
       "      <th>NauseaVomitting</th>\n",
       "      <th>Temperature</th>\n",
       "      <th>Fatigue</th>\n",
       "      <th>isFemale</th>\n",
       "    </tr>\n",
       "  </thead>\n",
       "  <tbody>\n",
       "    <tr>\n",
       "      <th>726</th>\n",
       "      <td>H1N1</td>\n",
       "      <td>NaN</td>\n",
       "      <td>0.0</td>\n",
       "      <td>M</td>\n",
       "      <td>NaN</td>\n",
       "      <td>NaN</td>\n",
       "      <td>NaN</td>\n",
       "      <td>NaN</td>\n",
       "      <td>NaN</td>\n",
       "      <td>NaN</td>\n",
       "      <td>...</td>\n",
       "      <td>NaN</td>\n",
       "      <td>True</td>\n",
       "      <td>True</td>\n",
       "      <td>True</td>\n",
       "      <td>NaN</td>\n",
       "      <td>True</td>\n",
       "      <td>False</td>\n",
       "      <td>NaN</td>\n",
       "      <td>NaN</td>\n",
       "      <td>False</td>\n",
       "    </tr>\n",
       "    <tr>\n",
       "      <th>727</th>\n",
       "      <td>H1N1</td>\n",
       "      <td>NaN</td>\n",
       "      <td>0.0</td>\n",
       "      <td>F</td>\n",
       "      <td>NaN</td>\n",
       "      <td>NaN</td>\n",
       "      <td>NaN</td>\n",
       "      <td>NaN</td>\n",
       "      <td>NaN</td>\n",
       "      <td>NaN</td>\n",
       "      <td>...</td>\n",
       "      <td>NaN</td>\n",
       "      <td>True</td>\n",
       "      <td>False</td>\n",
       "      <td>True</td>\n",
       "      <td>NaN</td>\n",
       "      <td>False</td>\n",
       "      <td>False</td>\n",
       "      <td>NaN</td>\n",
       "      <td>NaN</td>\n",
       "      <td>True</td>\n",
       "    </tr>\n",
       "    <tr>\n",
       "      <th>728</th>\n",
       "      <td>H1N1</td>\n",
       "      <td>NaN</td>\n",
       "      <td>0.0</td>\n",
       "      <td>F</td>\n",
       "      <td>NaN</td>\n",
       "      <td>NaN</td>\n",
       "      <td>NaN</td>\n",
       "      <td>NaN</td>\n",
       "      <td>NaN</td>\n",
       "      <td>NaN</td>\n",
       "      <td>...</td>\n",
       "      <td>NaN</td>\n",
       "      <td>False</td>\n",
       "      <td>False</td>\n",
       "      <td>True</td>\n",
       "      <td>NaN</td>\n",
       "      <td>True</td>\n",
       "      <td>False</td>\n",
       "      <td>NaN</td>\n",
       "      <td>NaN</td>\n",
       "      <td>True</td>\n",
       "    </tr>\n",
       "    <tr>\n",
       "      <th>729</th>\n",
       "      <td>H1N1</td>\n",
       "      <td>NaN</td>\n",
       "      <td>0.0</td>\n",
       "      <td>F</td>\n",
       "      <td>NaN</td>\n",
       "      <td>NaN</td>\n",
       "      <td>NaN</td>\n",
       "      <td>NaN</td>\n",
       "      <td>NaN</td>\n",
       "      <td>NaN</td>\n",
       "      <td>...</td>\n",
       "      <td>NaN</td>\n",
       "      <td>False</td>\n",
       "      <td>False</td>\n",
       "      <td>True</td>\n",
       "      <td>NaN</td>\n",
       "      <td>False</td>\n",
       "      <td>False</td>\n",
       "      <td>NaN</td>\n",
       "      <td>NaN</td>\n",
       "      <td>True</td>\n",
       "    </tr>\n",
       "    <tr>\n",
       "      <th>730</th>\n",
       "      <td>H1N1</td>\n",
       "      <td>NaN</td>\n",
       "      <td>0.0</td>\n",
       "      <td>F</td>\n",
       "      <td>NaN</td>\n",
       "      <td>NaN</td>\n",
       "      <td>NaN</td>\n",
       "      <td>NaN</td>\n",
       "      <td>NaN</td>\n",
       "      <td>NaN</td>\n",
       "      <td>...</td>\n",
       "      <td>NaN</td>\n",
       "      <td>True</td>\n",
       "      <td>True</td>\n",
       "      <td>True</td>\n",
       "      <td>NaN</td>\n",
       "      <td>True</td>\n",
       "      <td>False</td>\n",
       "      <td>NaN</td>\n",
       "      <td>NaN</td>\n",
       "      <td>True</td>\n",
       "    </tr>\n",
       "  </tbody>\n",
       "</table>\n",
       "<p>5 rows × 21 columns</p>\n",
       "</div>"
      ],
      "text/plain": [
       "    Diagnosis InitialPCRDiagnosis  Age Sex  neutrophil  \\\n",
       "726      H1N1                 NaN  0.0   M         NaN   \n",
       "727      H1N1                 NaN  0.0   F         NaN   \n",
       "728      H1N1                 NaN  0.0   F         NaN   \n",
       "729      H1N1                 NaN  0.0   F         NaN   \n",
       "730      H1N1                 NaN  0.0   F         NaN   \n",
       "\n",
       "     serumLevelsOfWhiteBloodCell  lymphocytes CReactiveProteinLevels  \\\n",
       "726                          NaN          NaN                    NaN   \n",
       "727                          NaN          NaN                    NaN   \n",
       "728                          NaN          NaN                    NaN   \n",
       "729                          NaN          NaN                    NaN   \n",
       "730                          NaN          NaN                    NaN   \n",
       "\n",
       "     DurationOfIllness CTscanResults  ... GroundGlassOpacity Diarrhea  Fever  \\\n",
       "726                NaN           NaN  ...                NaN     True   True   \n",
       "727                NaN           NaN  ...                NaN     True  False   \n",
       "728                NaN           NaN  ...                NaN    False  False   \n",
       "729                NaN           NaN  ...                NaN    False  False   \n",
       "730                NaN           NaN  ...                NaN     True   True   \n",
       "\n",
       "    Coughing ShortnessOfBreath SoreThroat NauseaVomitting Temperature  \\\n",
       "726     True               NaN       True           False         NaN   \n",
       "727     True               NaN      False           False         NaN   \n",
       "728     True               NaN       True           False         NaN   \n",
       "729     True               NaN      False           False         NaN   \n",
       "730     True               NaN       True           False         NaN   \n",
       "\n",
       "     Fatigue isFemale  \n",
       "726      NaN    False  \n",
       "727      NaN     True  \n",
       "728      NaN     True  \n",
       "729      NaN     True  \n",
       "730      NaN     True  \n",
       "\n",
       "[5 rows x 21 columns]"
      ]
     },
     "execution_count": 22,
     "metadata": {},
     "output_type": "execute_result"
    }
   ],
   "source": [
    "covid_flu[covid_flu['Age']==0].head()"
   ]
  },
  {
   "cell_type": "code",
   "execution_count": 23,
   "metadata": {},
   "outputs": [],
   "source": [
    "covid_flu['Age'] = covid_flu['Age'] + 0.01"
   ]
  },
  {
   "cell_type": "code",
   "execution_count": 24,
   "metadata": {},
   "outputs": [
    {
     "data": {
      "text/plain": [
       "<Axes: ylabel='Count'>"
      ]
     },
     "execution_count": 24,
     "metadata": {},
     "output_type": "execute_result"
    },
    {
     "data": {
      "image/png": "[encoded data removed]",
      "text/plain": [
       "<Figure size 640x480 with 1 Axes>"
      ]
     },
     "metadata": {},
     "output_type": "display_data"
    }
   ],
   "source": [
    "sns.histplot(power_trans.fit_transform(covid_flu[['Age']]))"
   ]
  },
  {
   "cell_type": "code",
   "execution_count": 25,
   "metadata": {},
   "outputs": [
    {
     "data": {
      "text/plain": [
       "array([[<Axes: title={'center': 'Age'}>,\n",
       "        <Axes: title={'center': 'neutrophil'}>],\n",
       "       [<Axes: title={'center': 'serumLevelsOfWhiteBloodCell'}>,\n",
       "        <Axes: title={'center': 'lymphocytes'}>],\n",
       "       [<Axes: title={'center': 'DurationOfIllness'}>,\n",
       "        <Axes: title={'center': 'Temperature'}>]], dtype=object)"
      ]
     },
     "execution_count": 25,
     "metadata": {},
     "output_type": "execute_result"
    },
    {
     "data": {
      "image/png": "[encoded data removed]",
      "text/plain": [
       "<Figure size 1000x1000 with 6 Axes>"
      ]
     },
     "metadata": {},
     "output_type": "display_data"
    }
   ],
   "source": [
    "from sklearn.preprocessing import PowerTransformer\n",
    " \n",
    "boxcox_transformer = PowerTransformer(method='box-cox', standardize=False)\n",
    "pd.DataFrame(\n",
    "    boxcox_transformer.fit_transform(covid_flu[numerical_columns]), \n",
    "    columns=numerical_columns\n",
    ").hist(figsize=(10, 10))"
   ]
  },
  {
   "cell_type": "code",
   "execution_count": 26,
   "metadata": {},
   "outputs": [
    {
     "data": {
      "text/plain": [
       "array([[<Axes: title={'center': 'Age'}>,\n",
       "        <Axes: title={'center': 'neutrophil'}>],\n",
       "       [<Axes: title={'center': 'serumLevelsOfWhiteBloodCell'}>,\n",
       "        <Axes: title={'center': 'lymphocytes'}>],\n",
       "       [<Axes: title={'center': 'DurationOfIllness'}>,\n",
       "        <Axes: title={'center': 'Temperature'}>]], dtype=object)"
      ]
     },
     "execution_count": 26,
     "metadata": {},
     "output_type": "execute_result"
    },
    {
     "data": {
      "image/png": "[encoded data removed]",
      "text/plain": [
       "<Figure size 1000x1000 with 6 Axes>"
      ]
     },
     "metadata": {},
     "output_type": "display_data"
    }
   ],
   "source": [
    "yeo_johnson_transformer = PowerTransformer(method='yeo-johnson', standardize=False)\n",
    "pd.DataFrame(\n",
    "    yeo_johnson_transformer.fit_transform(covid_flu[numerical_columns]), \n",
    "    columns=numerical_columns\n",
    ").hist(figsize=(10, 10))"
   ]
  },
  {
   "cell_type": "markdown",
   "metadata": {},
   "source": [
    "#### Feature Scaling"
   ]
  },
  {
   "cell_type": "code",
   "execution_count": 27,
   "metadata": {},
   "outputs": [
    {
     "data": {
      "text/html": [
       "<div>\n",
       "<style scoped>\n",
       "    .dataframe tbody tr th:only-of-type {\n",
       "        vertical-align: middle;\n",
       "    }\n",
       "\n",
       "    .dataframe tbody tr th {\n",
       "        vertical-align: top;\n",
       "    }\n",
       "\n",
       "    .dataframe thead th {\n",
       "        text-align: right;\n",
       "    }\n",
       "</style>\n",
       "<table border=\"1\" class=\"dataframe\">\n",
       "  <thead>\n",
       "    <tr style=\"text-align: right;\">\n",
       "      <th></th>\n",
       "      <th>Age</th>\n",
       "      <th>neutrophil</th>\n",
       "      <th>serumLevelsOfWhiteBloodCell</th>\n",
       "      <th>lymphocytes</th>\n",
       "      <th>DurationOfIllness</th>\n",
       "      <th>Temperature</th>\n",
       "    </tr>\n",
       "  </thead>\n",
       "  <tbody>\n",
       "    <tr>\n",
       "      <th>count</th>\n",
       "      <td>1454.000000</td>\n",
       "      <td>103.000000</td>\n",
       "      <td>151.000000</td>\n",
       "      <td>156.000000</td>\n",
       "      <td>87.000000</td>\n",
       "      <td>628.000000</td>\n",
       "    </tr>\n",
       "    <tr>\n",
       "      <th>mean</th>\n",
       "      <td>26.481040</td>\n",
       "      <td>6.854078</td>\n",
       "      <td>6.885159</td>\n",
       "      <td>1.850154</td>\n",
       "      <td>13.988506</td>\n",
       "      <td>38.068312</td>\n",
       "    </tr>\n",
       "    <tr>\n",
       "      <th>std</th>\n",
       "      <td>21.487982</td>\n",
       "      <td>12.690131</td>\n",
       "      <td>4.346668</td>\n",
       "      <td>3.956668</td>\n",
       "      <td>9.043171</td>\n",
       "      <td>1.094468</td>\n",
       "    </tr>\n",
       "    <tr>\n",
       "      <th>min</th>\n",
       "      <td>0.010000</td>\n",
       "      <td>0.446000</td>\n",
       "      <td>0.500000</td>\n",
       "      <td>0.130000</td>\n",
       "      <td>1.000000</td>\n",
       "      <td>35.722222</td>\n",
       "    </tr>\n",
       "    <tr>\n",
       "      <th>25%</th>\n",
       "      <td>7.010000</td>\n",
       "      <td>2.160000</td>\n",
       "      <td>3.995000</td>\n",
       "      <td>0.637500</td>\n",
       "      <td>7.000000</td>\n",
       "      <td>37.222222</td>\n",
       "    </tr>\n",
       "    <tr>\n",
       "      <th>50%</th>\n",
       "      <td>24.010000</td>\n",
       "      <td>3.310000</td>\n",
       "      <td>5.690000</td>\n",
       "      <td>0.905500</td>\n",
       "      <td>12.000000</td>\n",
       "      <td>38.000000</td>\n",
       "    </tr>\n",
       "    <tr>\n",
       "      <th>75%</th>\n",
       "      <td>42.010000</td>\n",
       "      <td>6.645000</td>\n",
       "      <td>9.155000</td>\n",
       "      <td>1.605000</td>\n",
       "      <td>20.000000</td>\n",
       "      <td>38.722222</td>\n",
       "    </tr>\n",
       "    <tr>\n",
       "      <th>max</th>\n",
       "      <td>88.010000</td>\n",
       "      <td>93.000000</td>\n",
       "      <td>36.070000</td>\n",
       "      <td>30.600000</td>\n",
       "      <td>37.000000</td>\n",
       "      <td>42.222222</td>\n",
       "    </tr>\n",
       "  </tbody>\n",
       "</table>\n",
       "</div>"
      ],
      "text/plain": [
       "               Age  neutrophil  serumLevelsOfWhiteBloodCell  lymphocytes  \\\n",
       "count  1454.000000  103.000000                   151.000000   156.000000   \n",
       "mean     26.481040    6.854078                     6.885159     1.850154   \n",
       "std      21.487982   12.690131                     4.346668     3.956668   \n",
       "min       0.010000    0.446000                     0.500000     0.130000   \n",
       "25%       7.010000    2.160000                     3.995000     0.637500   \n",
       "50%      24.010000    3.310000                     5.690000     0.905500   \n",
       "75%      42.010000    6.645000                     9.155000     1.605000   \n",
       "max      88.010000   93.000000                    36.070000    30.600000   \n",
       "\n",
       "       DurationOfIllness  Temperature  \n",
       "count          87.000000   628.000000  \n",
       "mean           13.988506    38.068312  \n",
       "std             9.043171     1.094468  \n",
       "min             1.000000    35.722222  \n",
       "25%             7.000000    37.222222  \n",
       "50%            12.000000    38.000000  \n",
       "75%            20.000000    38.722222  \n",
       "max            37.000000    42.222222  "
      ]
     },
     "execution_count": 27,
     "metadata": {},
     "output_type": "execute_result"
    }
   ],
   "source": [
    "covid_flu[numerical_columns].describe()"
   ]
  },
  {
   "cell_type": "code",
   "execution_count": 28,
   "metadata": {},
   "outputs": [
    {
     "data": {
      "text/html": [
       "<div>\n",
       "<style scoped>\n",
       "    .dataframe tbody tr th:only-of-type {\n",
       "        vertical-align: middle;\n",
       "    }\n",
       "\n",
       "    .dataframe tbody tr th {\n",
       "        vertical-align: top;\n",
       "    }\n",
       "\n",
       "    .dataframe thead th {\n",
       "        text-align: right;\n",
       "    }\n",
       "</style>\n",
       "<table border=\"1\" class=\"dataframe\">\n",
       "  <thead>\n",
       "    <tr style=\"text-align: right;\">\n",
       "      <th></th>\n",
       "      <th>Age</th>\n",
       "      <th>neutrophil</th>\n",
       "      <th>serumLevelsOfWhiteBloodCell</th>\n",
       "      <th>lymphocytes</th>\n",
       "      <th>DurationOfIllness</th>\n",
       "      <th>Temperature</th>\n",
       "    </tr>\n",
       "  </thead>\n",
       "  <tbody>\n",
       "    <tr>\n",
       "      <th>count</th>\n",
       "      <td>1.454000e+03</td>\n",
       "      <td>103.000000</td>\n",
       "      <td>1.510000e+02</td>\n",
       "      <td>1.560000e+02</td>\n",
       "      <td>8.700000e+01</td>\n",
       "      <td>6.280000e+02</td>\n",
       "    </tr>\n",
       "    <tr>\n",
       "      <th>mean</th>\n",
       "      <td>1.368308e-16</td>\n",
       "      <td>0.000000</td>\n",
       "      <td>-1.411674e-16</td>\n",
       "      <td>-1.708035e-17</td>\n",
       "      <td>-5.614921e-17</td>\n",
       "      <td>1.708471e-15</td>\n",
       "    </tr>\n",
       "    <tr>\n",
       "      <th>std</th>\n",
       "      <td>1.000344e+00</td>\n",
       "      <td>1.004890</td>\n",
       "      <td>1.003328e+00</td>\n",
       "      <td>1.003221e+00</td>\n",
       "      <td>1.005797e+00</td>\n",
       "      <td>1.000797e+00</td>\n",
       "    </tr>\n",
       "    <tr>\n",
       "      <th>min</th>\n",
       "      <td>-1.232324e+00</td>\n",
       "      <td>-0.507435</td>\n",
       "      <td>-1.473866e+00</td>\n",
       "      <td>-4.361482e-01</td>\n",
       "      <td>-1.444604e+00</td>\n",
       "      <td>-2.145299e+00</td>\n",
       "    </tr>\n",
       "    <tr>\n",
       "      <th>25%</th>\n",
       "      <td>-9.064480e-01</td>\n",
       "      <td>-0.371709</td>\n",
       "      <td>-6.671264e-01</td>\n",
       "      <td>-3.074706e-01</td>\n",
       "      <td>-7.772737e-01</td>\n",
       "      <td>-7.736770e-01</td>\n",
       "    </tr>\n",
       "    <tr>\n",
       "      <th>50%</th>\n",
       "      <td>-1.150359e-01</td>\n",
       "      <td>-0.280644</td>\n",
       "      <td>-2.758748e-01</td>\n",
       "      <td>-2.395187e-01</td>\n",
       "      <td>-2.211651e-01</td>\n",
       "      <td>-6.246559e-02</td>\n",
       "    </tr>\n",
       "    <tr>\n",
       "      <th>75%</th>\n",
       "      <td>7.229298e-01</td>\n",
       "      <td>-0.016556</td>\n",
       "      <td>5.239403e-01</td>\n",
       "      <td>-6.215921e-02</td>\n",
       "      <td>6.686088e-01</td>\n",
       "      <td>5.979450e-01</td>\n",
       "    </tr>\n",
       "    <tr>\n",
       "      <th>max</th>\n",
       "      <td>2.864398e+00</td>\n",
       "      <td>6.821614</td>\n",
       "      <td>6.736646e+00</td>\n",
       "      <td>7.289577e+00</td>\n",
       "      <td>2.559378e+00</td>\n",
       "      <td>3.798396e+00</td>\n",
       "    </tr>\n",
       "  </tbody>\n",
       "</table>\n",
       "</div>"
      ],
      "text/plain": [
       "                Age  neutrophil  serumLevelsOfWhiteBloodCell   lymphocytes  \\\n",
       "count  1.454000e+03  103.000000                 1.510000e+02  1.560000e+02   \n",
       "mean   1.368308e-16    0.000000                -1.411674e-16 -1.708035e-17   \n",
       "std    1.000344e+00    1.004890                 1.003328e+00  1.003221e+00   \n",
       "min   -1.232324e+00   -0.507435                -1.473866e+00 -4.361482e-01   \n",
       "25%   -9.064480e-01   -0.371709                -6.671264e-01 -3.074706e-01   \n",
       "50%   -1.150359e-01   -0.280644                -2.758748e-01 -2.395187e-01   \n",
       "75%    7.229298e-01   -0.016556                 5.239403e-01 -6.215921e-02   \n",
       "max    2.864398e+00    6.821614                 6.736646e+00  7.289577e+00   \n",
       "\n",
       "       DurationOfIllness   Temperature  \n",
       "count       8.700000e+01  6.280000e+02  \n",
       "mean       -5.614921e-17  1.708471e-15  \n",
       "std         1.005797e+00  1.000797e+00  \n",
       "min        -1.444604e+00 -2.145299e+00  \n",
       "25%        -7.772737e-01 -7.736770e-01  \n",
       "50%        -2.211651e-01 -6.246559e-02  \n",
       "75%         6.686088e-01  5.979450e-01  \n",
       "max         2.559378e+00  3.798396e+00  "
      ]
     },
     "execution_count": 28,
     "metadata": {},
     "output_type": "execute_result"
    }
   ],
   "source": [
    "from sklearn.preprocessing import StandardScaler, MinMaxScaler\n",
    " \n",
    "pd.DataFrame(  # mean of 0 and std of 1 but ranges are different (see min and max)\n",
    "    StandardScaler().fit_transform(covid_flu[numerical_columns]),\n",
    "    columns=numerical_columns\n",
    ").describe()"
   ]
  },
  {
   "cell_type": "code",
   "execution_count": 29,
   "metadata": {},
   "outputs": [
    {
     "data": {
      "text/html": [
       "<div>\n",
       "<style scoped>\n",
       "    .dataframe tbody tr th:only-of-type {\n",
       "        vertical-align: middle;\n",
       "    }\n",
       "\n",
       "    .dataframe tbody tr th {\n",
       "        vertical-align: top;\n",
       "    }\n",
       "\n",
       "    .dataframe thead th {\n",
       "        text-align: right;\n",
       "    }\n",
       "</style>\n",
       "<table border=\"1\" class=\"dataframe\">\n",
       "  <thead>\n",
       "    <tr style=\"text-align: right;\">\n",
       "      <th></th>\n",
       "      <th>Age</th>\n",
       "      <th>neutrophil</th>\n",
       "      <th>serumLevelsOfWhiteBloodCell</th>\n",
       "      <th>lymphocytes</th>\n",
       "      <th>DurationOfIllness</th>\n",
       "      <th>Temperature</th>\n",
       "    </tr>\n",
       "  </thead>\n",
       "  <tbody>\n",
       "    <tr>\n",
       "      <th>count</th>\n",
       "      <td>1454.000000</td>\n",
       "      <td>103.000000</td>\n",
       "      <td>151.000000</td>\n",
       "      <td>156.000000</td>\n",
       "      <td>87.000000</td>\n",
       "      <td>628.000000</td>\n",
       "    </tr>\n",
       "    <tr>\n",
       "      <th>mean</th>\n",
       "      <td>0.300807</td>\n",
       "      <td>0.069236</td>\n",
       "      <td>0.179510</td>\n",
       "      <td>0.056454</td>\n",
       "      <td>0.360792</td>\n",
       "      <td>0.360937</td>\n",
       "    </tr>\n",
       "    <tr>\n",
       "      <th>std</th>\n",
       "      <td>0.244182</td>\n",
       "      <td>0.137111</td>\n",
       "      <td>0.122200</td>\n",
       "      <td>0.129855</td>\n",
       "      <td>0.251199</td>\n",
       "      <td>0.168380</td>\n",
       "    </tr>\n",
       "    <tr>\n",
       "      <th>min</th>\n",
       "      <td>0.000000</td>\n",
       "      <td>0.000000</td>\n",
       "      <td>0.000000</td>\n",
       "      <td>0.000000</td>\n",
       "      <td>0.000000</td>\n",
       "      <td>0.000000</td>\n",
       "    </tr>\n",
       "    <tr>\n",
       "      <th>25%</th>\n",
       "      <td>0.079545</td>\n",
       "      <td>0.018519</td>\n",
       "      <td>0.098257</td>\n",
       "      <td>0.016656</td>\n",
       "      <td>0.166667</td>\n",
       "      <td>0.230769</td>\n",
       "    </tr>\n",
       "    <tr>\n",
       "      <th>50%</th>\n",
       "      <td>0.272727</td>\n",
       "      <td>0.030944</td>\n",
       "      <td>0.145909</td>\n",
       "      <td>0.025451</td>\n",
       "      <td>0.305556</td>\n",
       "      <td>0.350427</td>\n",
       "    </tr>\n",
       "    <tr>\n",
       "      <th>75%</th>\n",
       "      <td>0.477273</td>\n",
       "      <td>0.066977</td>\n",
       "      <td>0.243323</td>\n",
       "      <td>0.048408</td>\n",
       "      <td>0.527778</td>\n",
       "      <td>0.461538</td>\n",
       "    </tr>\n",
       "    <tr>\n",
       "      <th>max</th>\n",
       "      <td>1.000000</td>\n",
       "      <td>1.000000</td>\n",
       "      <td>1.000000</td>\n",
       "      <td>1.000000</td>\n",
       "      <td>1.000000</td>\n",
       "      <td>1.000000</td>\n",
       "    </tr>\n",
       "  </tbody>\n",
       "</table>\n",
       "</div>"
      ],
      "text/plain": [
       "               Age  neutrophil  serumLevelsOfWhiteBloodCell  lymphocytes  \\\n",
       "count  1454.000000  103.000000                   151.000000   156.000000   \n",
       "mean      0.300807    0.069236                     0.179510     0.056454   \n",
       "std       0.244182    0.137111                     0.122200     0.129855   \n",
       "min       0.000000    0.000000                     0.000000     0.000000   \n",
       "25%       0.079545    0.018519                     0.098257     0.016656   \n",
       "50%       0.272727    0.030944                     0.145909     0.025451   \n",
       "75%       0.477273    0.066977                     0.243323     0.048408   \n",
       "max       1.000000    1.000000                     1.000000     1.000000   \n",
       "\n",
       "       DurationOfIllness  Temperature  \n",
       "count          87.000000   628.000000  \n",
       "mean            0.360792     0.360937  \n",
       "std             0.251199     0.168380  \n",
       "min             0.000000     0.000000  \n",
       "25%             0.166667     0.230769  \n",
       "50%             0.305556     0.350427  \n",
       "75%             0.527778     0.461538  \n",
       "max             1.000000     1.000000  "
      ]
     },
     "execution_count": 29,
     "metadata": {},
     "output_type": "execute_result"
    }
   ],
   "source": [
    "pd.DataFrame(  # mean and std are different but min and max are 0s and 1s\n",
    "    MinMaxScaler().fit_transform(covid_flu[numerical_columns]),\n",
    "    columns=numerical_columns\n",
    ").describe()"
   ]
  },
  {
   "cell_type": "markdown",
   "metadata": {},
   "source": [
    "### Construction categorical data"
   ]
  },
  {
   "cell_type": "markdown",
   "metadata": {},
   "source": [
    "#### Binning"
   ]
  },
  {
   "cell_type": "markdown",
   "metadata": {},
   "source": [
    "Binning là phương pháp biến đổi dữ liệu dạng số (numerical sang dữ liệu dạng categorical), những giá trị nằm trong một khoảng định trước sẽ được biến đổi thành nhóm đại diện cho khoảng đó"
   ]
  },
  {
   "cell_type": "markdown",
   "metadata": {},
   "source": [
    "**Uniform**"
   ]
  },
  {
   "cell_type": "code",
   "execution_count": 30,
   "metadata": {},
   "outputs": [
    {
     "data": {
      "text/plain": [
       "<Axes: title={'center': 'Age (Uniform Binning)'}, xlabel='Age', ylabel='Frequency'>"
      ]
     },
     "execution_count": 30,
     "metadata": {},
     "output_type": "execute_result"
    },
    {
     "data": {
      "image/png": "[encoded data removed]",
      "text/plain": [
       "<Figure size 640x480 with 1 Axes>"
      ]
     },
     "metadata": {},
     "output_type": "display_data"
    }
   ],
   "source": [
    "from sklearn.preprocessing import KBinsDiscretizer\n",
    " \n",
    "binner = KBinsDiscretizer(n_bins=5, encode='ordinal', strategy='uniform')\n",
    "binned_data = binner.fit_transform(covid_flu[['Age']].dropna())\n",
    "pd.Series(binned_data.reshape(-1,)).plot(\n",
    "    title='Age (Uniform Binning)', kind='hist', xlabel='Age')"
   ]
  },
  {
   "cell_type": "markdown",
   "metadata": {},
   "source": [
    "**Quantiles**"
   ]
  },
  {
   "cell_type": "code",
   "execution_count": 31,
   "metadata": {},
   "outputs": [
    {
     "data": {
      "text/plain": [
       "<Axes: title={'center': 'Age (Uniform Binning)'}, xlabel='Age', ylabel='Frequency'>"
      ]
     },
     "execution_count": 31,
     "metadata": {},
     "output_type": "execute_result"
    },
    {
     "data": {
      "image/png": "[encoded data removed]",
      "text/plain": [
       "<Figure size 640x480 with 1 Axes>"
      ]
     },
     "metadata": {},
     "output_type": "display_data"
    }
   ],
   "source": [
    "binner = KBinsDiscretizer(n_bins=5, encode='ordinal', strategy='quantile')\n",
    "binned_data = binner.fit_transform(covid_flu[['Age']].dropna())\n",
    "pd.Series(binned_data.reshape(-1,)).plot(\n",
    "    title='Age (Uniform Binning)', kind='hist', xlabel='Age')"
   ]
  },
  {
   "cell_type": "markdown",
   "metadata": {},
   "source": [
    "**Kmeans**"
   ]
  },
  {
   "cell_type": "code",
   "execution_count": 32,
   "metadata": {},
   "outputs": [
    {
     "name": "stderr",
     "output_type": "stream",
     "text": [
      "f:\\Vendors\\Anaconda\\lib\\site-packages\\sklearn\\cluster\\_kmeans.py:1382: UserWarning: KMeans is known to have a memory leak on Windows with MKL, when there are less chunks than available threads. You can avoid it by setting the environment variable OMP_NUM_THREADS=6.\n",
      "  warnings.warn(\n"
     ]
    },
    {
     "data": {
      "text/plain": [
       "<Axes: title={'center': 'Age (Uniform Binning)'}, xlabel='Age', ylabel='Frequency'>"
      ]
     },
     "execution_count": 32,
     "metadata": {},
     "output_type": "execute_result"
    },
    {
     "data": {
      "image/png": "[encoded data removed]",
      "text/plain": [
       "<Figure size 640x480 with 1 Axes>"
      ]
     },
     "metadata": {},
     "output_type": "display_data"
    }
   ],
   "source": [
    "binner = KBinsDiscretizer(n_bins=5, encode='ordinal', strategy='kmeans')\n",
    "binned_data = binner.fit_transform(covid_flu[['Age']].dropna())\n",
    "pd.Series(binned_data.reshape(-1,)).plot(\n",
    "    title='Age (Uniform Binning)', kind='hist', xlabel='Age')"
   ]
  },
  {
   "cell_type": "markdown",
   "metadata": {},
   "source": [
    "#### One-hot Encoding"
   ]
  },
  {
   "cell_type": "code",
   "execution_count": 33,
   "metadata": {},
   "outputs": [],
   "source": [
    "from sklearn.base import BaseEstimator, TransformerMixin \n",
    "from sklearn.preprocessing import MultiLabelBinarizer\n",
    " \n",
    "class DummifyRiskFactor(BaseEstimator,TransformerMixin):          \n",
    "    def __init__(self):\n",
    "        self.label_binarizer = None\n",
    "        \n",
    "    def parse_risk_factors(self, comma_sep_factors):\n",
    "        ''' asthma,heart disease -> ['asthma', 'heart disease'] '''\n",
    "        try:\n",
    "            return [s.strip().lower() for s in comma_sep_factors.split(',')]\n",
    "        except:\n",
    "            return []\n",
    "    \n",
    "    def fit(self, X, y=None):\n",
    "        self.label_binarizer = MultiLabelBinarizer()                  \n",
    "        self.label_binarizer.fit(X.apply(self.parse_risk_factors))    \n",
    "        return self\n",
    "    def transform(self, X, y=None):\n",
    "        return self.label_binarizer.transform(X.apply(self.parse_risk_factors))"
   ]
  },
  {
   "cell_type": "code",
   "execution_count": 34,
   "metadata": {},
   "outputs": [
    {
     "name": "stdout",
     "output_type": "stream",
     "text": [
      "(1482, 41)\n"
     ]
    },
    {
     "data": {
      "text/plain": [
       "Index(['asthma', 'athero',\n",
       "       'atopic dermatitis and repetitive respiratory infections',\n",
       "       'begin tumor (removed)', 'chronic', 'chronic endrocrine disorder',\n",
       "       'chronic liver dieseas', 'chronic liver disorder',\n",
       "       'chronic neurological disorders',\n",
       "       'chronic obstructive pulmonary disease', 'chronic sinusitis',\n",
       "       'chronic spontaneous urticaria', 'congestive',\n",
       "       'coronary artery disease', 'coronary eart disease', 'diabetes',\n",
       "       'fatty liver', 'fetal distress', 'gastrectomy', 'heart disease',\n",
       "       'hematological disease', 'hepb', 'hypertension',\n",
       "       'hypertension and copd', 'hypertention', 'hyperthyroidism',\n",
       "       'hypothyroidism', 'immuno', 'influenza', 'kidney transplant recipient',\n",
       "       'lung cancer', 'lung disease', 'myxoma of abdominal cavity', 'obesity',\n",
       "       'pneumomediastinum and subcutaneous emphysema', 'pneumonia',\n",
       "       'pre-eclampsia', 'prom', 'renal disease', 'respiratory disease',\n",
       "       'rheumatoid arthritis'],\n",
       "      dtype='object')"
      ]
     },
     "execution_count": 34,
     "metadata": {},
     "output_type": "execute_result"
    }
   ],
   "source": [
    "drf = DummifyRiskFactor()\n",
    "risks = drf.fit_transform(covid_flu['RiskFactors'])\n",
    "print(risks.shape)\n",
    "pd.DataFrame(risks, columns=drf.label_binarizer.classes_).columns"
   ]
  },
  {
   "cell_type": "code",
   "execution_count": 35,
   "metadata": {},
   "outputs": [
    {
     "name": "stderr",
     "output_type": "stream",
     "text": [
      "f:\\Vendors\\Anaconda\\lib\\site-packages\\sklearn\\feature_extraction\\text.py:528: UserWarning: The parameter 'token_pattern' will not be used since 'tokenizer' is not None'\n",
      "  warnings.warn(\n"
     ]
    },
    {
     "data": {
      "text/html": [
       "<div>\n",
       "<style scoped>\n",
       "    .dataframe tbody tr th:only-of-type {\n",
       "        vertical-align: middle;\n",
       "    }\n",
       "\n",
       "    .dataframe tbody tr th {\n",
       "        vertical-align: top;\n",
       "    }\n",
       "\n",
       "    .dataframe thead th {\n",
       "        text-align: right;\n",
       "    }\n",
       "</style>\n",
       "<table border=\"1\" class=\"dataframe\">\n",
       "  <thead>\n",
       "    <tr style=\"text-align: right;\">\n",
       "      <th></th>\n",
       "      <th>asthma</th>\n",
       "      <th>athero</th>\n",
       "      <th>atopic dermatitis and repetitive respiratory infections</th>\n",
       "      <th>begin tumor (removed)</th>\n",
       "      <th>chronic</th>\n",
       "      <th>chronic endrocrine disorder</th>\n",
       "      <th>chronic liver dieseas</th>\n",
       "      <th>chronic liver disorder</th>\n",
       "      <th>chronic neurological disorders</th>\n",
       "      <th>chronic obstructive pulmonary disease</th>\n",
       "      <th>...</th>\n",
       "      <th>myxoma of abdominal cavity</th>\n",
       "      <th>obesity</th>\n",
       "      <th>pneumomediastinum and subcutaneous emphysema</th>\n",
       "      <th>pneumonia</th>\n",
       "      <th>pre-eclampsia</th>\n",
       "      <th>prom</th>\n",
       "      <th>renal disease</th>\n",
       "      <th>respiratory disease</th>\n",
       "      <th>rheumatoid arthritis</th>\n",
       "      <th>unk</th>\n",
       "    </tr>\n",
       "  </thead>\n",
       "  <tbody>\n",
       "    <tr>\n",
       "      <th>0</th>\n",
       "      <td>0</td>\n",
       "      <td>0</td>\n",
       "      <td>0</td>\n",
       "      <td>0</td>\n",
       "      <td>0</td>\n",
       "      <td>0</td>\n",
       "      <td>0</td>\n",
       "      <td>0</td>\n",
       "      <td>0</td>\n",
       "      <td>0</td>\n",
       "      <td>...</td>\n",
       "      <td>0</td>\n",
       "      <td>0</td>\n",
       "      <td>0</td>\n",
       "      <td>0</td>\n",
       "      <td>0</td>\n",
       "      <td>0</td>\n",
       "      <td>0</td>\n",
       "      <td>0</td>\n",
       "      <td>0</td>\n",
       "      <td>1</td>\n",
       "    </tr>\n",
       "    <tr>\n",
       "      <th>1</th>\n",
       "      <td>0</td>\n",
       "      <td>0</td>\n",
       "      <td>0</td>\n",
       "      <td>0</td>\n",
       "      <td>0</td>\n",
       "      <td>0</td>\n",
       "      <td>0</td>\n",
       "      <td>0</td>\n",
       "      <td>0</td>\n",
       "      <td>0</td>\n",
       "      <td>...</td>\n",
       "      <td>0</td>\n",
       "      <td>0</td>\n",
       "      <td>0</td>\n",
       "      <td>0</td>\n",
       "      <td>0</td>\n",
       "      <td>0</td>\n",
       "      <td>0</td>\n",
       "      <td>0</td>\n",
       "      <td>0</td>\n",
       "      <td>1</td>\n",
       "    </tr>\n",
       "    <tr>\n",
       "      <th>2</th>\n",
       "      <td>0</td>\n",
       "      <td>0</td>\n",
       "      <td>0</td>\n",
       "      <td>0</td>\n",
       "      <td>0</td>\n",
       "      <td>0</td>\n",
       "      <td>0</td>\n",
       "      <td>0</td>\n",
       "      <td>0</td>\n",
       "      <td>0</td>\n",
       "      <td>...</td>\n",
       "      <td>0</td>\n",
       "      <td>0</td>\n",
       "      <td>0</td>\n",
       "      <td>0</td>\n",
       "      <td>0</td>\n",
       "      <td>0</td>\n",
       "      <td>0</td>\n",
       "      <td>0</td>\n",
       "      <td>0</td>\n",
       "      <td>1</td>\n",
       "    </tr>\n",
       "    <tr>\n",
       "      <th>3</th>\n",
       "      <td>0</td>\n",
       "      <td>0</td>\n",
       "      <td>0</td>\n",
       "      <td>0</td>\n",
       "      <td>0</td>\n",
       "      <td>0</td>\n",
       "      <td>0</td>\n",
       "      <td>0</td>\n",
       "      <td>0</td>\n",
       "      <td>0</td>\n",
       "      <td>...</td>\n",
       "      <td>0</td>\n",
       "      <td>0</td>\n",
       "      <td>0</td>\n",
       "      <td>0</td>\n",
       "      <td>0</td>\n",
       "      <td>0</td>\n",
       "      <td>0</td>\n",
       "      <td>0</td>\n",
       "      <td>0</td>\n",
       "      <td>0</td>\n",
       "    </tr>\n",
       "    <tr>\n",
       "      <th>4</th>\n",
       "      <td>0</td>\n",
       "      <td>0</td>\n",
       "      <td>0</td>\n",
       "      <td>0</td>\n",
       "      <td>0</td>\n",
       "      <td>0</td>\n",
       "      <td>0</td>\n",
       "      <td>0</td>\n",
       "      <td>0</td>\n",
       "      <td>0</td>\n",
       "      <td>...</td>\n",
       "      <td>0</td>\n",
       "      <td>0</td>\n",
       "      <td>0</td>\n",
       "      <td>0</td>\n",
       "      <td>0</td>\n",
       "      <td>0</td>\n",
       "      <td>0</td>\n",
       "      <td>0</td>\n",
       "      <td>0</td>\n",
       "      <td>1</td>\n",
       "    </tr>\n",
       "    <tr>\n",
       "      <th>...</th>\n",
       "      <td>...</td>\n",
       "      <td>...</td>\n",
       "      <td>...</td>\n",
       "      <td>...</td>\n",
       "      <td>...</td>\n",
       "      <td>...</td>\n",
       "      <td>...</td>\n",
       "      <td>...</td>\n",
       "      <td>...</td>\n",
       "      <td>...</td>\n",
       "      <td>...</td>\n",
       "      <td>...</td>\n",
       "      <td>...</td>\n",
       "      <td>...</td>\n",
       "      <td>...</td>\n",
       "      <td>...</td>\n",
       "      <td>...</td>\n",
       "      <td>...</td>\n",
       "      <td>...</td>\n",
       "      <td>...</td>\n",
       "      <td>...</td>\n",
       "    </tr>\n",
       "    <tr>\n",
       "      <th>1477</th>\n",
       "      <td>0</td>\n",
       "      <td>0</td>\n",
       "      <td>0</td>\n",
       "      <td>0</td>\n",
       "      <td>0</td>\n",
       "      <td>0</td>\n",
       "      <td>0</td>\n",
       "      <td>0</td>\n",
       "      <td>0</td>\n",
       "      <td>0</td>\n",
       "      <td>...</td>\n",
       "      <td>0</td>\n",
       "      <td>0</td>\n",
       "      <td>0</td>\n",
       "      <td>0</td>\n",
       "      <td>0</td>\n",
       "      <td>0</td>\n",
       "      <td>0</td>\n",
       "      <td>0</td>\n",
       "      <td>0</td>\n",
       "      <td>1</td>\n",
       "    </tr>\n",
       "    <tr>\n",
       "      <th>1478</th>\n",
       "      <td>0</td>\n",
       "      <td>0</td>\n",
       "      <td>0</td>\n",
       "      <td>0</td>\n",
       "      <td>0</td>\n",
       "      <td>0</td>\n",
       "      <td>0</td>\n",
       "      <td>0</td>\n",
       "      <td>0</td>\n",
       "      <td>0</td>\n",
       "      <td>...</td>\n",
       "      <td>0</td>\n",
       "      <td>0</td>\n",
       "      <td>0</td>\n",
       "      <td>0</td>\n",
       "      <td>0</td>\n",
       "      <td>0</td>\n",
       "      <td>0</td>\n",
       "      <td>0</td>\n",
       "      <td>0</td>\n",
       "      <td>1</td>\n",
       "    </tr>\n",
       "    <tr>\n",
       "      <th>1479</th>\n",
       "      <td>0</td>\n",
       "      <td>0</td>\n",
       "      <td>0</td>\n",
       "      <td>0</td>\n",
       "      <td>0</td>\n",
       "      <td>0</td>\n",
       "      <td>0</td>\n",
       "      <td>0</td>\n",
       "      <td>0</td>\n",
       "      <td>0</td>\n",
       "      <td>...</td>\n",
       "      <td>0</td>\n",
       "      <td>0</td>\n",
       "      <td>0</td>\n",
       "      <td>0</td>\n",
       "      <td>0</td>\n",
       "      <td>0</td>\n",
       "      <td>0</td>\n",
       "      <td>0</td>\n",
       "      <td>0</td>\n",
       "      <td>1</td>\n",
       "    </tr>\n",
       "    <tr>\n",
       "      <th>1480</th>\n",
       "      <td>0</td>\n",
       "      <td>0</td>\n",
       "      <td>0</td>\n",
       "      <td>0</td>\n",
       "      <td>0</td>\n",
       "      <td>0</td>\n",
       "      <td>0</td>\n",
       "      <td>0</td>\n",
       "      <td>0</td>\n",
       "      <td>0</td>\n",
       "      <td>...</td>\n",
       "      <td>0</td>\n",
       "      <td>0</td>\n",
       "      <td>0</td>\n",
       "      <td>0</td>\n",
       "      <td>0</td>\n",
       "      <td>0</td>\n",
       "      <td>0</td>\n",
       "      <td>0</td>\n",
       "      <td>0</td>\n",
       "      <td>1</td>\n",
       "    </tr>\n",
       "    <tr>\n",
       "      <th>1481</th>\n",
       "      <td>0</td>\n",
       "      <td>0</td>\n",
       "      <td>0</td>\n",
       "      <td>0</td>\n",
       "      <td>0</td>\n",
       "      <td>0</td>\n",
       "      <td>0</td>\n",
       "      <td>0</td>\n",
       "      <td>0</td>\n",
       "      <td>0</td>\n",
       "      <td>...</td>\n",
       "      <td>0</td>\n",
       "      <td>0</td>\n",
       "      <td>0</td>\n",
       "      <td>0</td>\n",
       "      <td>0</td>\n",
       "      <td>0</td>\n",
       "      <td>0</td>\n",
       "      <td>0</td>\n",
       "      <td>0</td>\n",
       "      <td>1</td>\n",
       "    </tr>\n",
       "  </tbody>\n",
       "</table>\n",
       "<p>1482 rows × 42 columns</p>\n",
       "</div>"
      ],
      "text/plain": [
       "      asthma  athero  atopic dermatitis and repetitive respiratory infections  \\\n",
       "0          0       0                                                  0         \n",
       "1          0       0                                                  0         \n",
       "2          0       0                                                  0         \n",
       "3          0       0                                                  0         \n",
       "4          0       0                                                  0         \n",
       "...      ...     ...                                                ...         \n",
       "1477       0       0                                                  0         \n",
       "1478       0       0                                                  0         \n",
       "1479       0       0                                                  0         \n",
       "1480       0       0                                                  0         \n",
       "1481       0       0                                                  0         \n",
       "\n",
       "      begin tumor (removed)  chronic  chronic endrocrine disorder  \\\n",
       "0                         0        0                            0   \n",
       "1                         0        0                            0   \n",
       "2                         0        0                            0   \n",
       "3                         0        0                            0   \n",
       "4                         0        0                            0   \n",
       "...                     ...      ...                          ...   \n",
       "1477                      0        0                            0   \n",
       "1478                      0        0                            0   \n",
       "1479                      0        0                            0   \n",
       "1480                      0        0                            0   \n",
       "1481                      0        0                            0   \n",
       "\n",
       "      chronic liver dieseas  chronic liver disorder  \\\n",
       "0                         0                       0   \n",
       "1                         0                       0   \n",
       "2                         0                       0   \n",
       "3                         0                       0   \n",
       "4                         0                       0   \n",
       "...                     ...                     ...   \n",
       "1477                      0                       0   \n",
       "1478                      0                       0   \n",
       "1479                      0                       0   \n",
       "1480                      0                       0   \n",
       "1481                      0                       0   \n",
       "\n",
       "      chronic neurological disorders  chronic obstructive pulmonary disease  \\\n",
       "0                                  0                                      0   \n",
       "1                                  0                                      0   \n",
       "2                                  0                                      0   \n",
       "3                                  0                                      0   \n",
       "4                                  0                                      0   \n",
       "...                              ...                                    ...   \n",
       "1477                               0                                      0   \n",
       "1478                               0                                      0   \n",
       "1479                               0                                      0   \n",
       "1480                               0                                      0   \n",
       "1481                               0                                      0   \n",
       "\n",
       "      ...  myxoma of abdominal cavity  obesity  \\\n",
       "0     ...                           0        0   \n",
       "1     ...                           0        0   \n",
       "2     ...                           0        0   \n",
       "3     ...                           0        0   \n",
       "4     ...                           0        0   \n",
       "...   ...                         ...      ...   \n",
       "1477  ...                           0        0   \n",
       "1478  ...                           0        0   \n",
       "1479  ...                           0        0   \n",
       "1480  ...                           0        0   \n",
       "1481  ...                           0        0   \n",
       "\n",
       "      pneumomediastinum and subcutaneous emphysema  pneumonia  pre-eclampsia  \\\n",
       "0                                                0          0              0   \n",
       "1                                                0          0              0   \n",
       "2                                                0          0              0   \n",
       "3                                                0          0              0   \n",
       "4                                                0          0              0   \n",
       "...                                            ...        ...            ...   \n",
       "1477                                             0          0              0   \n",
       "1478                                             0          0              0   \n",
       "1479                                             0          0              0   \n",
       "1480                                             0          0              0   \n",
       "1481                                             0          0              0   \n",
       "\n",
       "      prom  renal disease  respiratory disease  rheumatoid arthritis  unk  \n",
       "0        0              0                    0                     0    1  \n",
       "1        0              0                    0                     0    1  \n",
       "2        0              0                    0                     0    1  \n",
       "3        0              0                    0                     0    0  \n",
       "4        0              0                    0                     0    1  \n",
       "...    ...            ...                  ...                   ...  ...  \n",
       "1477     0              0                    0                     0    1  \n",
       "1478     0              0                    0                     0    1  \n",
       "1479     0              0                    0                     0    1  \n",
       "1480     0              0                    0                     0    1  \n",
       "1481     0              0                    0                     0    1  \n",
       "\n",
       "[1482 rows x 42 columns]"
      ]
     },
     "execution_count": 35,
     "metadata": {},
     "output_type": "execute_result"
    }
   ],
   "source": [
    "from sklearn.feature_extraction.text import CountVectorizer\n",
    "ct = CountVectorizer(tokenizer=lambda x: [i.strip().lower() for i in x.split(',')])\n",
    "risks = ct.fit_transform(covid_flu['RiskFactors'].fillna('unk')).toarray()\n",
    "pd.DataFrame(risks, columns=ct.get_feature_names_out())"
   ]
  },
  {
   "cell_type": "markdown",
   "metadata": {},
   "source": [
    "#### Domain-specific"
   ]
  },
  {
   "cell_type": "code",
   "execution_count": 36,
   "metadata": {},
   "outputs": [],
   "source": [
    "covid_flu['FluSymptoms'] = covid_flu[\n",
    "    ['Diarrhea', 'Fever', 'Coughing', 'SoreThroat', \n",
    "     'NauseaVomitting', 'Fatigue']].sum(axis=1)>=2"
   ]
  },
  {
   "cell_type": "code",
   "execution_count": 37,
   "metadata": {},
   "outputs": [],
   "source": [
    "binary_features = [                                    \n",
    "    'isFemale', 'GroundGlassOpacity', 'CTscanResults', \n",
    "    'Diarrhea', 'Fever', 'FluSymptoms',\n",
    "    'Coughing', 'SoreThroat', 'NauseaVomitting', \n",
    "    'Fatigue', 'InitialPCRDiagnosis'\n",
    "]"
   ]
  },
  {
   "cell_type": "markdown",
   "metadata": {},
   "source": [
    "### Create FE Pipeline"
   ]
  },
  {
   "cell_type": "code",
   "execution_count": 38,
   "metadata": {},
   "outputs": [],
   "source": [
    "from sklearn.preprocessing import FunctionTransformer\n",
    "from sklearn.pipeline import Pipeline, FeatureUnion "
   ]
  },
  {
   "cell_type": "code",
   "execution_count": 39,
   "metadata": {},
   "outputs": [],
   "source": [
    "risk_factor_pipeline = Pipeline(\n",
    "    [\n",
    "        ('select_risk_factor', FunctionTransformer(lambda df: df['RiskFactors'])),\n",
    "        ('vectorizer',DummifyRiskFactor())\n",
    "    ]\n",
    ")\n",
    "binary_pipeline = Pipeline(\n",
    "    [\n",
    "        ('select_categorical_feature', FunctionTransformer(lambda df: df[binary_features])),\n",
    "         ('fillna', SimpleImputer(strategy='constant', fill_value=False))\n",
    "    ]\n",
    ")\n",
    "numerical_pipeline = Pipeline(\n",
    "    [\n",
    "        ('select_numerical_features', FunctionTransformer(lambda df: df[numerical_columns])),\n",
    "        ('impute', SimpleImputer(strategy='median')),\n",
    "    ]\n",
    ")"
   ]
  },
  {
   "cell_type": "code",
   "execution_count": 40,
   "metadata": {},
   "outputs": [],
   "source": [
    "from sklearn.model_selection import train_test_split\n",
    "X, y = covid_flu.drop(['Diagnosis'], axis=1), covid_flu['Diagnosis']\n",
    "x_train, x_test, y_train, y_test = train_test_split(\n",
    "    X, y, stratify=y, random_state=0, test_size=.2\n",
    ")"
   ]
  },
  {
   "cell_type": "code",
   "execution_count": 41,
   "metadata": {},
   "outputs": [],
   "source": [
    "from sklearn.ensemble import ExtraTreesClassifier\n",
    "import time\n",
    "from sklearn.model_selection import GridSearchCV\n",
    "from sklearn.metrics import classification_report"
   ]
  },
  {
   "cell_type": "code",
   "execution_count": 42,
   "metadata": {},
   "outputs": [],
   "source": [
    "def simple_grid_search(\n",
    "    x_train, y_train, x_test, y_test, feature_engineering_pipeline):\n",
    "    ''' \n",
    "    simple helper function to grid search an \n",
    "    ExtraTreesClassifier model and print out a classification report\n",
    "    for the best model where best here is defined as having \n",
    "    the best cross-validated accuracy on the training set\n",
    "    '''\n",
    "    \n",
    "    params = {  # some simple parameters to grid search\n",
    "        'max_depth': [10, None],\n",
    "        'n_estimators': [10, 50, 100, 500],\n",
    "        'criterion': ['gini', 'entropy']\n",
    "    }\n",
    " \n",
    "    base_model = ExtraTreesClassifier()\n",
    " \n",
    "    model_grid_search = GridSearchCV(base_model, param_grid=params, cv=3)\n",
    "    start_time = time.time()  # capture the start time\n",
    "    # fit FE pipeline to training data and use it to transform test data\n",
    "    if feature_engineering_pipeline:\n",
    "        parsed_x_train = feature_engineering_pipeline.fit_transform(\n",
    "            x_train, y_train)\n",
    "        parsed_x_test = feature_engineering_pipeline.transform(x_test)\n",
    "    else:\n",
    "        parsed_x_train = x_train\n",
    "        parsed_x_test = x_test\n",
    " \n",
    "    parse_time = time.time()\n",
    "    print(f\"Parsing took {(parse_time - start_time):.2f} seconds\")\n",
    " \n",
    "    model_grid_search.fit(parsed_x_train, y_train)\n",
    "    fit_time = time.time()\n",
    "    print(f\"Training took {(fit_time - start_time):.2f} seconds\")\n",
    "     \n",
    "    best_model = model_grid_search.best_estimator_\n",
    " \n",
    "    print(classification_report(\n",
    "        y_true=y_test, y_pred=best_model.predict(parsed_x_test)))\n",
    "    end_time = time.time()\n",
    "    print(f\"Overall took {(end_time - start_time):.2f} seconds\")    \n",
    " \n",
    "    return best_model"
   ]
  },
  {
   "cell_type": "code",
   "execution_count": 43,
   "metadata": {},
   "outputs": [
    {
     "name": "stdout",
     "output_type": "stream",
     "text": [
      "Parsing took 0.01 seconds\n"
     ]
    },
    {
     "name": "stderr",
     "output_type": "stream",
     "text": [
      "f:\\Vendors\\Anaconda\\lib\\site-packages\\sklearn\\preprocessing\\_label.py:895: UserWarning: unknown class(es) ['atopic dermatitis and repetitive respiratory infections', 'begin tumor (removed)', 'chronic liver disorder', 'chronic neurological disorders', 'fatty liver', 'hypertention', 'lung disease', 'pneumomediastinum and subcutaneous emphysema', 'rheumatoid arthritis'] will be ignored\n",
      "  warnings.warn(\n"
     ]
    },
    {
     "name": "stdout",
     "output_type": "stream",
     "text": [
      "Training took 6.12 seconds\n",
      "              precision    recall  f1-score   support\n",
      "\n",
      "     COVID19       0.80      0.10      0.17        82\n",
      "        H1N1       0.74      0.99      0.85       215\n",
      "\n",
      "    accuracy                           0.74       297\n",
      "   macro avg       0.77      0.54      0.51       297\n",
      "weighted avg       0.76      0.74      0.66       297\n",
      "\n",
      "Overall took 6.13 seconds\n"
     ]
    },
    {
     "data": {
      "text/html": [
       "<style>#sk-container-id-1 {color: black;background-color: white;}#sk-container-id-1 pre{padding: 0;}#sk-container-id-1 div.sk-toggleable {background-color: white;}#sk-container-id-1 label.sk-toggleable__label {cursor: pointer;display: block;width: 100%;margin-bottom: 0;padding: 0.3em;box-sizing: border-box;text-align: center;}#sk-container-id-1 label.sk-toggleable__label-arrow:before {content: \"▸\";float: left;margin-right: 0.25em;color: #696969;}#sk-container-id-1 label.sk-toggleable__label-arrow:hover:before {color: black;}#sk-container-id-1 div.sk-estimator:hover label.sk-toggleable__label-arrow:before {color: black;}#sk-container-id-1 div.sk-toggleable__content {max-height: 0;max-width: 0;overflow: hidden;text-align: left;background-color: #f0f8ff;}#sk-container-id-1 div.sk-toggleable__content pre {margin: 0.2em;color: black;border-radius: 0.25em;background-color: #f0f8ff;}#sk-container-id-1 input.sk-toggleable__control:checked~div.sk-toggleable__content {max-height: 200px;max-width: 100%;overflow: auto;}#sk-container-id-1 input.sk-toggleable__control:checked~label.sk-toggleable__label-arrow:before {content: \"▾\";}#sk-container-id-1 div.sk-estimator input.sk-toggleable__control:checked~label.sk-toggleable__label {background-color: #d4ebff;}#sk-container-id-1 div.sk-label input.sk-toggleable__control:checked~label.sk-toggleable__label {background-color: #d4ebff;}#sk-container-id-1 input.sk-hidden--visually {border: 0;clip: rect(1px 1px 1px 1px);clip: rect(1px, 1px, 1px, 1px);height: 1px;margin: -1px;overflow: hidden;padding: 0;position: absolute;width: 1px;}#sk-container-id-1 div.sk-estimator {font-family: monospace;background-color: #f0f8ff;border: 1px dotted black;border-radius: 0.25em;box-sizing: border-box;margin-bottom: 0.5em;}#sk-container-id-1 div.sk-estimator:hover {background-color: #d4ebff;}#sk-container-id-1 div.sk-parallel-item::after {content: \"\";width: 100%;border-bottom: 1px solid gray;flex-grow: 1;}#sk-container-id-1 div.sk-label:hover label.sk-toggleable__label {background-color: #d4ebff;}#sk-container-id-1 div.sk-serial::before {content: \"\";position: absolute;border-left: 1px solid gray;box-sizing: border-box;top: 0;bottom: 0;left: 50%;z-index: 0;}#sk-container-id-1 div.sk-serial {display: flex;flex-direction: column;align-items: center;background-color: white;padding-right: 0.2em;padding-left: 0.2em;position: relative;}#sk-container-id-1 div.sk-item {position: relative;z-index: 1;}#sk-container-id-1 div.sk-parallel {display: flex;align-items: stretch;justify-content: center;background-color: white;position: relative;}#sk-container-id-1 div.sk-item::before, #sk-container-id-1 div.sk-parallel-item::before {content: \"\";position: absolute;border-left: 1px solid gray;box-sizing: border-box;top: 0;bottom: 0;left: 50%;z-index: -1;}#sk-container-id-1 div.sk-parallel-item {display: flex;flex-direction: column;z-index: 1;position: relative;background-color: white;}#sk-container-id-1 div.sk-parallel-item:first-child::after {align-self: flex-end;width: 50%;}#sk-container-id-1 div.sk-parallel-item:last-child::after {align-self: flex-start;width: 50%;}#sk-container-id-1 div.sk-parallel-item:only-child::after {width: 0;}#sk-container-id-1 div.sk-dashed-wrapped {border: 1px dashed gray;margin: 0 0.4em 0.5em 0.4em;box-sizing: border-box;padding-bottom: 0.4em;background-color: white;}#sk-container-id-1 div.sk-label label {font-family: monospace;font-weight: bold;display: inline-block;line-height: 1.2em;}#sk-container-id-1 div.sk-label-container {text-align: center;}#sk-container-id-1 div.sk-container {/* jupyter's `normalize.less` sets `[hidden] { display: none; }` but bootstrap.min.css set `[hidden] { display: none !important; }` so we also need the `!important` here to be able to override the default hidden behavior on the sphinx rendered scikit-learn.org. See: https://github.com/scikit-learn/scikit-learn/issues/21755 */display: inline-block !important;position: relative;}#sk-container-id-1 div.sk-text-repr-fallback {display: none;}</style><div id=\"sk-container-id-1\" class=\"sk-top-container\"><div class=\"sk-text-repr-fallback\"><pre>ExtraTreesClassifier(n_estimators=10)</pre><b>In a Jupyter environment, please rerun this cell to show the HTML representation or trust the notebook. <br />On GitHub, the HTML representation is unable to render, please try loading this page with nbviewer.org.</b></div><div class=\"sk-container\" hidden><div class=\"sk-item\"><div class=\"sk-estimator sk-toggleable\"><input class=\"sk-toggleable__control sk-hidden--visually\" id=\"sk-estimator-id-1\" type=\"checkbox\" checked><label for=\"sk-estimator-id-1\" class=\"sk-toggleable__label sk-toggleable__label-arrow\">ExtraTreesClassifier</label><div class=\"sk-toggleable__content\"><pre>ExtraTreesClassifier(n_estimators=10)</pre></div></div></div></div></div>"
      ],
      "text/plain": [
       "ExtraTreesClassifier(n_estimators=10)"
      ]
     },
     "execution_count": 43,
     "metadata": {},
     "output_type": "execute_result"
    }
   ],
   "source": [
    "simple_grid_search(x_train, y_train, x_test, y_test, \n",
    "risk_factor_pipeline) "
   ]
  },
  {
   "cell_type": "code",
   "execution_count": 44,
   "metadata": {},
   "outputs": [
    {
     "name": "stdout",
     "output_type": "stream",
     "text": [
      "Parsing took 0.01 seconds\n",
      "Training took 6.15 seconds\n",
      "              precision    recall  f1-score   support\n",
      "\n",
      "     COVID19       0.79      0.60      0.68        82\n",
      "        H1N1       0.86      0.94      0.90       215\n",
      "\n",
      "    accuracy                           0.85       297\n",
      "   macro avg       0.82      0.77      0.79       297\n",
      "weighted avg       0.84      0.85      0.84       297\n",
      "\n",
      "Overall took 6.16 seconds\n"
     ]
    },
    {
     "data": {
      "text/html": [
       "<style>#sk-container-id-2 {color: black;background-color: white;}#sk-container-id-2 pre{padding: 0;}#sk-container-id-2 div.sk-toggleable {background-color: white;}#sk-container-id-2 label.sk-toggleable__label {cursor: pointer;display: block;width: 100%;margin-bottom: 0;padding: 0.3em;box-sizing: border-box;text-align: center;}#sk-container-id-2 label.sk-toggleable__label-arrow:before {content: \"▸\";float: left;margin-right: 0.25em;color: #696969;}#sk-container-id-2 label.sk-toggleable__label-arrow:hover:before {color: black;}#sk-container-id-2 div.sk-estimator:hover label.sk-toggleable__label-arrow:before {color: black;}#sk-container-id-2 div.sk-toggleable__content {max-height: 0;max-width: 0;overflow: hidden;text-align: left;background-color: #f0f8ff;}#sk-container-id-2 div.sk-toggleable__content pre {margin: 0.2em;color: black;border-radius: 0.25em;background-color: #f0f8ff;}#sk-container-id-2 input.sk-toggleable__control:checked~div.sk-toggleable__content {max-height: 200px;max-width: 100%;overflow: auto;}#sk-container-id-2 input.sk-toggleable__control:checked~label.sk-toggleable__label-arrow:before {content: \"▾\";}#sk-container-id-2 div.sk-estimator input.sk-toggleable__control:checked~label.sk-toggleable__label {background-color: #d4ebff;}#sk-container-id-2 div.sk-label input.sk-toggleable__control:checked~label.sk-toggleable__label {background-color: #d4ebff;}#sk-container-id-2 input.sk-hidden--visually {border: 0;clip: rect(1px 1px 1px 1px);clip: rect(1px, 1px, 1px, 1px);height: 1px;margin: -1px;overflow: hidden;padding: 0;position: absolute;width: 1px;}#sk-container-id-2 div.sk-estimator {font-family: monospace;background-color: #f0f8ff;border: 1px dotted black;border-radius: 0.25em;box-sizing: border-box;margin-bottom: 0.5em;}#sk-container-id-2 div.sk-estimator:hover {background-color: #d4ebff;}#sk-container-id-2 div.sk-parallel-item::after {content: \"\";width: 100%;border-bottom: 1px solid gray;flex-grow: 1;}#sk-container-id-2 div.sk-label:hover label.sk-toggleable__label {background-color: #d4ebff;}#sk-container-id-2 div.sk-serial::before {content: \"\";position: absolute;border-left: 1px solid gray;box-sizing: border-box;top: 0;bottom: 0;left: 50%;z-index: 0;}#sk-container-id-2 div.sk-serial {display: flex;flex-direction: column;align-items: center;background-color: white;padding-right: 0.2em;padding-left: 0.2em;position: relative;}#sk-container-id-2 div.sk-item {position: relative;z-index: 1;}#sk-container-id-2 div.sk-parallel {display: flex;align-items: stretch;justify-content: center;background-color: white;position: relative;}#sk-container-id-2 div.sk-item::before, #sk-container-id-2 div.sk-parallel-item::before {content: \"\";position: absolute;border-left: 1px solid gray;box-sizing: border-box;top: 0;bottom: 0;left: 50%;z-index: -1;}#sk-container-id-2 div.sk-parallel-item {display: flex;flex-direction: column;z-index: 1;position: relative;background-color: white;}#sk-container-id-2 div.sk-parallel-item:first-child::after {align-self: flex-end;width: 50%;}#sk-container-id-2 div.sk-parallel-item:last-child::after {align-self: flex-start;width: 50%;}#sk-container-id-2 div.sk-parallel-item:only-child::after {width: 0;}#sk-container-id-2 div.sk-dashed-wrapped {border: 1px dashed gray;margin: 0 0.4em 0.5em 0.4em;box-sizing: border-box;padding-bottom: 0.4em;background-color: white;}#sk-container-id-2 div.sk-label label {font-family: monospace;font-weight: bold;display: inline-block;line-height: 1.2em;}#sk-container-id-2 div.sk-label-container {text-align: center;}#sk-container-id-2 div.sk-container {/* jupyter's `normalize.less` sets `[hidden] { display: none; }` but bootstrap.min.css set `[hidden] { display: none !important; }` so we also need the `!important` here to be able to override the default hidden behavior on the sphinx rendered scikit-learn.org. See: https://github.com/scikit-learn/scikit-learn/issues/21755 */display: inline-block !important;position: relative;}#sk-container-id-2 div.sk-text-repr-fallback {display: none;}</style><div id=\"sk-container-id-2\" class=\"sk-top-container\"><div class=\"sk-text-repr-fallback\"><pre>ExtraTreesClassifier(criterion=&#x27;entropy&#x27;, max_depth=10, n_estimators=50)</pre><b>In a Jupyter environment, please rerun this cell to show the HTML representation or trust the notebook. <br />On GitHub, the HTML representation is unable to render, please try loading this page with nbviewer.org.</b></div><div class=\"sk-container\" hidden><div class=\"sk-item\"><div class=\"sk-estimator sk-toggleable\"><input class=\"sk-toggleable__control sk-hidden--visually\" id=\"sk-estimator-id-2\" type=\"checkbox\" checked><label for=\"sk-estimator-id-2\" class=\"sk-toggleable__label sk-toggleable__label-arrow\">ExtraTreesClassifier</label><div class=\"sk-toggleable__content\"><pre>ExtraTreesClassifier(criterion=&#x27;entropy&#x27;, max_depth=10, n_estimators=50)</pre></div></div></div></div></div>"
      ],
      "text/plain": [
       "ExtraTreesClassifier(criterion='entropy', max_depth=10, n_estimators=50)"
      ]
     },
     "execution_count": 44,
     "metadata": {},
     "output_type": "execute_result"
    }
   ],
   "source": [
    "simple_fe = FeatureUnion([                       \n",
    "    ('risk_factors', risk_factor_pipeline),\n",
    "    ('binary_pipeline', binary_pipeline),\n",
    "    ('numerical_pipeline', numerical_pipeline)\n",
    "])\n",
    " \n",
    "# simple_fe.fit_transform(x_train, y_train).shape\n",
    "simple_grid_search(x_train, y_train, x_test, y_test, \n",
    "binary_pipeline) "
   ]
  },
  {
   "cell_type": "code",
   "execution_count": 45,
   "metadata": {},
   "outputs": [
    {
     "name": "stdout",
     "output_type": "stream",
     "text": [
      "Parsing took 0.01 seconds\n",
      "Training took 6.68 seconds\n",
      "              precision    recall  f1-score   support\n",
      "\n",
      "     COVID19       0.77      0.70      0.73        82\n",
      "        H1N1       0.89      0.92      0.90       215\n",
      "\n",
      "    accuracy                           0.86       297\n",
      "   macro avg       0.83      0.81      0.82       297\n",
      "weighted avg       0.86      0.86      0.86       297\n",
      "\n",
      "Overall took 6.69 seconds\n"
     ]
    },
    {
     "data": {
      "text/html": [
       "<style>#sk-container-id-3 {color: black;background-color: white;}#sk-container-id-3 pre{padding: 0;}#sk-container-id-3 div.sk-toggleable {background-color: white;}#sk-container-id-3 label.sk-toggleable__label {cursor: pointer;display: block;width: 100%;margin-bottom: 0;padding: 0.3em;box-sizing: border-box;text-align: center;}#sk-container-id-3 label.sk-toggleable__label-arrow:before {content: \"▸\";float: left;margin-right: 0.25em;color: #696969;}#sk-container-id-3 label.sk-toggleable__label-arrow:hover:before {color: black;}#sk-container-id-3 div.sk-estimator:hover label.sk-toggleable__label-arrow:before {color: black;}#sk-container-id-3 div.sk-toggleable__content {max-height: 0;max-width: 0;overflow: hidden;text-align: left;background-color: #f0f8ff;}#sk-container-id-3 div.sk-toggleable__content pre {margin: 0.2em;color: black;border-radius: 0.25em;background-color: #f0f8ff;}#sk-container-id-3 input.sk-toggleable__control:checked~div.sk-toggleable__content {max-height: 200px;max-width: 100%;overflow: auto;}#sk-container-id-3 input.sk-toggleable__control:checked~label.sk-toggleable__label-arrow:before {content: \"▾\";}#sk-container-id-3 div.sk-estimator input.sk-toggleable__control:checked~label.sk-toggleable__label {background-color: #d4ebff;}#sk-container-id-3 div.sk-label input.sk-toggleable__control:checked~label.sk-toggleable__label {background-color: #d4ebff;}#sk-container-id-3 input.sk-hidden--visually {border: 0;clip: rect(1px 1px 1px 1px);clip: rect(1px, 1px, 1px, 1px);height: 1px;margin: -1px;overflow: hidden;padding: 0;position: absolute;width: 1px;}#sk-container-id-3 div.sk-estimator {font-family: monospace;background-color: #f0f8ff;border: 1px dotted black;border-radius: 0.25em;box-sizing: border-box;margin-bottom: 0.5em;}#sk-container-id-3 div.sk-estimator:hover {background-color: #d4ebff;}#sk-container-id-3 div.sk-parallel-item::after {content: \"\";width: 100%;border-bottom: 1px solid gray;flex-grow: 1;}#sk-container-id-3 div.sk-label:hover label.sk-toggleable__label {background-color: #d4ebff;}#sk-container-id-3 div.sk-serial::before {content: \"\";position: absolute;border-left: 1px solid gray;box-sizing: border-box;top: 0;bottom: 0;left: 50%;z-index: 0;}#sk-container-id-3 div.sk-serial {display: flex;flex-direction: column;align-items: center;background-color: white;padding-right: 0.2em;padding-left: 0.2em;position: relative;}#sk-container-id-3 div.sk-item {position: relative;z-index: 1;}#sk-container-id-3 div.sk-parallel {display: flex;align-items: stretch;justify-content: center;background-color: white;position: relative;}#sk-container-id-3 div.sk-item::before, #sk-container-id-3 div.sk-parallel-item::before {content: \"\";position: absolute;border-left: 1px solid gray;box-sizing: border-box;top: 0;bottom: 0;left: 50%;z-index: -1;}#sk-container-id-3 div.sk-parallel-item {display: flex;flex-direction: column;z-index: 1;position: relative;background-color: white;}#sk-container-id-3 div.sk-parallel-item:first-child::after {align-self: flex-end;width: 50%;}#sk-container-id-3 div.sk-parallel-item:last-child::after {align-self: flex-start;width: 50%;}#sk-container-id-3 div.sk-parallel-item:only-child::after {width: 0;}#sk-container-id-3 div.sk-dashed-wrapped {border: 1px dashed gray;margin: 0 0.4em 0.5em 0.4em;box-sizing: border-box;padding-bottom: 0.4em;background-color: white;}#sk-container-id-3 div.sk-label label {font-family: monospace;font-weight: bold;display: inline-block;line-height: 1.2em;}#sk-container-id-3 div.sk-label-container {text-align: center;}#sk-container-id-3 div.sk-container {/* jupyter's `normalize.less` sets `[hidden] { display: none; }` but bootstrap.min.css set `[hidden] { display: none !important; }` so we also need the `!important` here to be able to override the default hidden behavior on the sphinx rendered scikit-learn.org. See: https://github.com/scikit-learn/scikit-learn/issues/21755 */display: inline-block !important;position: relative;}#sk-container-id-3 div.sk-text-repr-fallback {display: none;}</style><div id=\"sk-container-id-3\" class=\"sk-top-container\"><div class=\"sk-text-repr-fallback\"><pre>ExtraTreesClassifier(n_estimators=50)</pre><b>In a Jupyter environment, please rerun this cell to show the HTML representation or trust the notebook. <br />On GitHub, the HTML representation is unable to render, please try loading this page with nbviewer.org.</b></div><div class=\"sk-container\" hidden><div class=\"sk-item\"><div class=\"sk-estimator sk-toggleable\"><input class=\"sk-toggleable__control sk-hidden--visually\" id=\"sk-estimator-id-3\" type=\"checkbox\" checked><label for=\"sk-estimator-id-3\" class=\"sk-toggleable__label sk-toggleable__label-arrow\">ExtraTreesClassifier</label><div class=\"sk-toggleable__content\"><pre>ExtraTreesClassifier(n_estimators=50)</pre></div></div></div></div></div>"
      ],
      "text/plain": [
       "ExtraTreesClassifier(n_estimators=50)"
      ]
     },
     "execution_count": 45,
     "metadata": {},
     "output_type": "execute_result"
    }
   ],
   "source": [
    "simple_grid_search(x_train, y_train, x_test, y_test, \n",
    "numerical_pipeline) "
   ]
  },
  {
   "cell_type": "code",
   "execution_count": 46,
   "metadata": {},
   "outputs": [
    {
     "name": "stdout",
     "output_type": "stream",
     "text": [
      "Parsing took 0.01 seconds\n"
     ]
    },
    {
     "name": "stderr",
     "output_type": "stream",
     "text": [
      "f:\\Vendors\\Anaconda\\lib\\site-packages\\sklearn\\preprocessing\\_label.py:895: UserWarning: unknown class(es) ['atopic dermatitis and repetitive respiratory infections', 'begin tumor (removed)', 'chronic liver disorder', 'chronic neurological disorders', 'fatty liver', 'hypertention', 'lung disease', 'pneumomediastinum and subcutaneous emphysema', 'rheumatoid arthritis'] will be ignored\n",
      "  warnings.warn(\n"
     ]
    },
    {
     "name": "stdout",
     "output_type": "stream",
     "text": [
      "Training took 7.71 seconds\n",
      "              precision    recall  f1-score   support\n",
      "\n",
      "     COVID19       0.84      0.84      0.84        82\n",
      "        H1N1       0.94      0.94      0.94       215\n",
      "\n",
      "    accuracy                           0.91       297\n",
      "   macro avg       0.89      0.89      0.89       297\n",
      "weighted avg       0.91      0.91      0.91       297\n",
      "\n",
      "Overall took 7.75 seconds\n"
     ]
    },
    {
     "data": {
      "text/html": [
       "<style>#sk-container-id-4 {color: black;background-color: white;}#sk-container-id-4 pre{padding: 0;}#sk-container-id-4 div.sk-toggleable {background-color: white;}#sk-container-id-4 label.sk-toggleable__label {cursor: pointer;display: block;width: 100%;margin-bottom: 0;padding: 0.3em;box-sizing: border-box;text-align: center;}#sk-container-id-4 label.sk-toggleable__label-arrow:before {content: \"▸\";float: left;margin-right: 0.25em;color: #696969;}#sk-container-id-4 label.sk-toggleable__label-arrow:hover:before {color: black;}#sk-container-id-4 div.sk-estimator:hover label.sk-toggleable__label-arrow:before {color: black;}#sk-container-id-4 div.sk-toggleable__content {max-height: 0;max-width: 0;overflow: hidden;text-align: left;background-color: #f0f8ff;}#sk-container-id-4 div.sk-toggleable__content pre {margin: 0.2em;color: black;border-radius: 0.25em;background-color: #f0f8ff;}#sk-container-id-4 input.sk-toggleable__control:checked~div.sk-toggleable__content {max-height: 200px;max-width: 100%;overflow: auto;}#sk-container-id-4 input.sk-toggleable__control:checked~label.sk-toggleable__label-arrow:before {content: \"▾\";}#sk-container-id-4 div.sk-estimator input.sk-toggleable__control:checked~label.sk-toggleable__label {background-color: #d4ebff;}#sk-container-id-4 div.sk-label input.sk-toggleable__control:checked~label.sk-toggleable__label {background-color: #d4ebff;}#sk-container-id-4 input.sk-hidden--visually {border: 0;clip: rect(1px 1px 1px 1px);clip: rect(1px, 1px, 1px, 1px);height: 1px;margin: -1px;overflow: hidden;padding: 0;position: absolute;width: 1px;}#sk-container-id-4 div.sk-estimator {font-family: monospace;background-color: #f0f8ff;border: 1px dotted black;border-radius: 0.25em;box-sizing: border-box;margin-bottom: 0.5em;}#sk-container-id-4 div.sk-estimator:hover {background-color: #d4ebff;}#sk-container-id-4 div.sk-parallel-item::after {content: \"\";width: 100%;border-bottom: 1px solid gray;flex-grow: 1;}#sk-container-id-4 div.sk-label:hover label.sk-toggleable__label {background-color: #d4ebff;}#sk-container-id-4 div.sk-serial::before {content: \"\";position: absolute;border-left: 1px solid gray;box-sizing: border-box;top: 0;bottom: 0;left: 50%;z-index: 0;}#sk-container-id-4 div.sk-serial {display: flex;flex-direction: column;align-items: center;background-color: white;padding-right: 0.2em;padding-left: 0.2em;position: relative;}#sk-container-id-4 div.sk-item {position: relative;z-index: 1;}#sk-container-id-4 div.sk-parallel {display: flex;align-items: stretch;justify-content: center;background-color: white;position: relative;}#sk-container-id-4 div.sk-item::before, #sk-container-id-4 div.sk-parallel-item::before {content: \"\";position: absolute;border-left: 1px solid gray;box-sizing: border-box;top: 0;bottom: 0;left: 50%;z-index: -1;}#sk-container-id-4 div.sk-parallel-item {display: flex;flex-direction: column;z-index: 1;position: relative;background-color: white;}#sk-container-id-4 div.sk-parallel-item:first-child::after {align-self: flex-end;width: 50%;}#sk-container-id-4 div.sk-parallel-item:last-child::after {align-self: flex-start;width: 50%;}#sk-container-id-4 div.sk-parallel-item:only-child::after {width: 0;}#sk-container-id-4 div.sk-dashed-wrapped {border: 1px dashed gray;margin: 0 0.4em 0.5em 0.4em;box-sizing: border-box;padding-bottom: 0.4em;background-color: white;}#sk-container-id-4 div.sk-label label {font-family: monospace;font-weight: bold;display: inline-block;line-height: 1.2em;}#sk-container-id-4 div.sk-label-container {text-align: center;}#sk-container-id-4 div.sk-container {/* jupyter's `normalize.less` sets `[hidden] { display: none; }` but bootstrap.min.css set `[hidden] { display: none !important; }` so we also need the `!important` here to be able to override the default hidden behavior on the sphinx rendered scikit-learn.org. See: https://github.com/scikit-learn/scikit-learn/issues/21755 */display: inline-block !important;position: relative;}#sk-container-id-4 div.sk-text-repr-fallback {display: none;}</style><div id=\"sk-container-id-4\" class=\"sk-top-container\"><div class=\"sk-text-repr-fallback\"><pre>ExtraTreesClassifier(n_estimators=500)</pre><b>In a Jupyter environment, please rerun this cell to show the HTML representation or trust the notebook. <br />On GitHub, the HTML representation is unable to render, please try loading this page with nbviewer.org.</b></div><div class=\"sk-container\" hidden><div class=\"sk-item\"><div class=\"sk-estimator sk-toggleable\"><input class=\"sk-toggleable__control sk-hidden--visually\" id=\"sk-estimator-id-4\" type=\"checkbox\" checked><label for=\"sk-estimator-id-4\" class=\"sk-toggleable__label sk-toggleable__label-arrow\">ExtraTreesClassifier</label><div class=\"sk-toggleable__content\"><pre>ExtraTreesClassifier(n_estimators=500)</pre></div></div></div></div></div>"
      ],
      "text/plain": [
       "ExtraTreesClassifier(n_estimators=500)"
      ]
     },
     "execution_count": 46,
     "metadata": {},
     "output_type": "execute_result"
    }
   ],
   "source": [
    "simple_grid_search(x_train, y_train, x_test, y_test, \n",
    "simple_fe) "
   ]
  },
  {
   "cell_type": "markdown",
   "metadata": {},
   "source": [
    "Thay đổi impute numerical thành mean"
   ]
  },
  {
   "cell_type": "code",
   "execution_count": 47,
   "metadata": {},
   "outputs": [
    {
     "name": "stdout",
     "output_type": "stream",
     "text": [
      "Parsing took 0.01 seconds\n"
     ]
    },
    {
     "name": "stderr",
     "output_type": "stream",
     "text": [
      "f:\\Vendors\\Anaconda\\lib\\site-packages\\sklearn\\preprocessing\\_label.py:895: UserWarning: unknown class(es) ['atopic dermatitis and repetitive respiratory infections', 'begin tumor (removed)', 'chronic liver disorder', 'chronic neurological disorders', 'fatty liver', 'hypertention', 'lung disease', 'pneumomediastinum and subcutaneous emphysema', 'rheumatoid arthritis'] will be ignored\n",
      "  warnings.warn(\n"
     ]
    },
    {
     "name": "stdout",
     "output_type": "stream",
     "text": [
      "Training took 7.25 seconds\n",
      "              precision    recall  f1-score   support\n",
      "\n",
      "     COVID19       0.85      0.84      0.85        82\n",
      "        H1N1       0.94      0.94      0.94       215\n",
      "\n",
      "    accuracy                           0.92       297\n",
      "   macro avg       0.90      0.89      0.89       297\n",
      "weighted avg       0.92      0.92      0.92       297\n",
      "\n",
      "Overall took 7.27 seconds\n"
     ]
    }
   ],
   "source": [
    "numerical_pipeline = Pipeline(\n",
    "    [\n",
    "        ('select_numerical_features', FunctionTransformer(lambda df: \n",
    "df[numerical_columns])),\n",
    "        ('impute', SimpleImputer(strategy='mean')),\n",
    "        ('scale', StandardScaler())\n",
    "    ]\n",
    ")\n",
    " \n",
    "simple_fe = FeatureUnion([\n",
    "    ('risk_factors', risk_factor_pipeline),\n",
    "    ('binary_pipeline', binary_pipeline),\n",
    "    ('numerical_pipeline', numerical_pipeline)\n",
    "])                                                                      \n",
    " \n",
    "best_model = simple_grid_search(x_train, y_train, x_test, y_test, simple_fe)"
   ]
  },
  {
   "cell_type": "markdown",
   "metadata": {},
   "source": [
    "Đổi thành 999"
   ]
  },
  {
   "cell_type": "code",
   "execution_count": 48,
   "metadata": {},
   "outputs": [
    {
     "name": "stdout",
     "output_type": "stream",
     "text": [
      "Parsing took 0.01 seconds\n"
     ]
    },
    {
     "name": "stderr",
     "output_type": "stream",
     "text": [
      "f:\\Vendors\\Anaconda\\lib\\site-packages\\sklearn\\preprocessing\\_label.py:895: UserWarning: unknown class(es) ['atopic dermatitis and repetitive respiratory infections', 'begin tumor (removed)', 'chronic liver disorder', 'chronic neurological disorders', 'fatty liver', 'hypertention', 'lung disease', 'pneumomediastinum and subcutaneous emphysema', 'rheumatoid arthritis'] will be ignored\n",
      "  warnings.warn(\n"
     ]
    },
    {
     "name": "stdout",
     "output_type": "stream",
     "text": [
      "Training took 6.89 seconds\n",
      "              precision    recall  f1-score   support\n",
      "\n",
      "     COVID19       0.89      0.87      0.88        82\n",
      "        H1N1       0.95      0.96      0.95       215\n",
      "\n",
      "    accuracy                           0.93       297\n",
      "   macro avg       0.92      0.91      0.92       297\n",
      "weighted avg       0.93      0.93      0.93       297\n",
      "\n",
      "Overall took 6.90 seconds\n"
     ]
    }
   ],
   "source": [
    "numerical_pipeline = Pipeline(\n",
    "    [\n",
    "        ('select_numerical_features', FunctionTransformer(lambda df: \n",
    "df[numerical_columns])),\n",
    "        ('impute', SimpleImputer(strategy='constant', fill_value=999)),\n",
    "        ('scale', StandardScaler())\n",
    "    ]\n",
    ")\n",
    " \n",
    "simple_fe = FeatureUnion([\n",
    "    ('risk_factors', risk_factor_pipeline),\n",
    "    ('binary_pipeline', binary_pipeline),\n",
    "    ('numerical_pipeline', numerical_pipeline)\n",
    "])                                                                      \n",
    " \n",
    "best_model = simple_grid_search(x_train, y_train, x_test, y_test, simple_fe)"
   ]
  },
  {
   "cell_type": "markdown",
   "metadata": {},
   "source": [
    "Thêm box-cox numerical"
   ]
  },
  {
   "cell_type": "code",
   "execution_count": 49,
   "metadata": {},
   "outputs": [],
   "source": [
    "numerical_pipeline = Pipeline(\n",
    "    [\n",
    "        ('select_numerical_features', FunctionTransformer(lambda df:  df[numerical_columns])),\n",
    "        ('turn_into_df', FunctionTransformer(lambda matrix:pd.DataFrame(matrix))),  # turn back into dataframe\n",
    "        ('end_of_tail', EndTailImputer(imputation_method='gaussian',tail='right')),\n",
    "        ('Box-Cox', PowerTransformer(method='box-cox', standardize=True))  \n",
    "\n",
    "    ]\n",
    ")\n",
    " \n",
    "simple_fe = FeatureUnion([\n",
    "    ('risk_factors', risk_factor_pipeline),\n",
    "    ('binary_pipeline', binary_pipeline),\n",
    "    ('numerical_pipeline', numerical_pipeline)\n",
    "])"
   ]
  },
  {
   "cell_type": "code",
   "execution_count": 50,
   "metadata": {},
   "outputs": [
    {
     "name": "stdout",
     "output_type": "stream",
     "text": [
      "Parsing took 0.02 seconds\n"
     ]
    },
    {
     "name": "stderr",
     "output_type": "stream",
     "text": [
      "f:\\Vendors\\Anaconda\\lib\\site-packages\\sklearn\\preprocessing\\_label.py:895: UserWarning: unknown class(es) ['atopic dermatitis and repetitive respiratory infections', 'begin tumor (removed)', 'chronic liver disorder', 'chronic neurological disorders', 'fatty liver', 'hypertention', 'lung disease', 'pneumomediastinum and subcutaneous emphysema', 'rheumatoid arthritis'] will be ignored\n",
      "  warnings.warn(\n"
     ]
    },
    {
     "name": "stdout",
     "output_type": "stream",
     "text": [
      "Training took 7.45 seconds\n",
      "              precision    recall  f1-score   support\n",
      "\n",
      "     COVID19       0.87      0.87      0.87        82\n",
      "        H1N1       0.95      0.95      0.95       215\n",
      "\n",
      "    accuracy                           0.93       297\n",
      "   macro avg       0.91      0.91      0.91       297\n",
      "weighted avg       0.93      0.93      0.93       297\n",
      "\n",
      "Overall took 7.49 seconds\n"
     ]
    }
   ],
   "source": [
    "best_model = simple_grid_search(x_train, y_train, x_test, y_test, simple_fe)"
   ]
  },
  {
   "cell_type": "markdown",
   "metadata": {},
   "source": [
    "Mặc dù nó thấp hơn, nhưng hãy thử thêm ordinal_bins"
   ]
  },
  {
   "cell_type": "code",
   "execution_count": 51,
   "metadata": {},
   "outputs": [],
   "source": [
    "numerical_pipeline = Pipeline(\n",
    "    [\n",
    "        ('select_numerical_features', FunctionTransformer(lambda df:  df[numerical_columns])),\n",
    "        ('turn_into_df', FunctionTransformer(lambda matrix:pd.DataFrame(matrix))),  # turn back into dataframe\n",
    "        ('end_of_tail', EndTailImputer(imputation_method='gaussian')),\n",
    "        ('Box-Cox', PowerTransformer(method='box-cox', standardize=True)),           \n",
    "        ('ordinal_bins', KBinsDiscretizer(n_bins=5, encode='ordinal', strategy='kmeans'))\n",
    " \n",
    "    ]\n",
    ")\n",
    " \n",
    "simple_fe = FeatureUnion([\n",
    "    ('risk_factors', risk_factor_pipeline),\n",
    "    ('binary_pipeline', binary_pipeline),\n",
    "    ('numerical_pipeline', numerical_pipeline)\n",
    "])"
   ]
  },
  {
   "cell_type": "code",
   "execution_count": 52,
   "metadata": {},
   "outputs": [
    {
     "name": "stderr",
     "output_type": "stream",
     "text": [
      "f:\\Vendors\\Anaconda\\lib\\site-packages\\sklearn\\cluster\\_kmeans.py:1382: UserWarning: KMeans is known to have a memory leak on Windows with MKL, when there are less chunks than available threads. You can avoid it by setting the environment variable OMP_NUM_THREADS=5.\n",
      "  warnings.warn(\n",
      "f:\\Vendors\\Anaconda\\lib\\site-packages\\sklearn\\cluster\\_kmeans.py:1382: UserWarning: KMeans is known to have a memory leak on Windows with MKL, when there are less chunks than available threads. You can avoid it by setting the environment variable OMP_NUM_THREADS=5.\n",
      "  warnings.warn(\n",
      "f:\\Vendors\\Anaconda\\lib\\site-packages\\sklearn\\cluster\\_kmeans.py:1382: UserWarning: KMeans is known to have a memory leak on Windows with MKL, when there are less chunks than available threads. You can avoid it by setting the environment variable OMP_NUM_THREADS=5.\n",
      "  warnings.warn(\n",
      "f:\\Vendors\\Anaconda\\lib\\site-packages\\sklearn\\cluster\\_kmeans.py:1382: UserWarning: KMeans is known to have a memory leak on Windows with MKL, when there are less chunks than available threads. You can avoid it by setting the environment variable OMP_NUM_THREADS=5.\n",
      "  warnings.warn(\n",
      "f:\\Vendors\\Anaconda\\lib\\site-packages\\sklearn\\cluster\\_kmeans.py:1382: UserWarning: KMeans is known to have a memory leak on Windows with MKL, when there are less chunks than available threads. You can avoid it by setting the environment variable OMP_NUM_THREADS=5.\n",
      "  warnings.warn(\n",
      "f:\\Vendors\\Anaconda\\lib\\site-packages\\sklearn\\cluster\\_kmeans.py:1382: UserWarning: KMeans is known to have a memory leak on Windows with MKL, when there are less chunks than available threads. You can avoid it by setting the environment variable OMP_NUM_THREADS=5.\n",
      "  warnings.warn(\n",
      "f:\\Vendors\\Anaconda\\lib\\site-packages\\sklearn\\preprocessing\\_label.py:895: UserWarning: unknown class(es) ['atopic dermatitis and repetitive respiratory infections', 'begin tumor (removed)', 'chronic liver disorder', 'chronic neurological disorders', 'fatty liver', 'hypertention', 'lung disease', 'pneumomediastinum and subcutaneous emphysema', 'rheumatoid arthritis'] will be ignored\n",
      "  warnings.warn(\n"
     ]
    },
    {
     "name": "stdout",
     "output_type": "stream",
     "text": [
      "Parsing took 0.37 seconds\n",
      "Training took 7.68 seconds\n",
      "              precision    recall  f1-score   support\n",
      "\n",
      "     COVID19       0.95      0.85      0.90        82\n",
      "        H1N1       0.95      0.98      0.96       215\n",
      "\n",
      "    accuracy                           0.95       297\n",
      "   macro avg       0.95      0.92      0.93       297\n",
      "weighted avg       0.95      0.95      0.95       297\n",
      "\n",
      "Overall took 7.72 seconds\n"
     ]
    }
   ],
   "source": [
    "best_model = simple_grid_search(x_train, y_train, x_test, y_test, simple_fe)"
   ]
  },
  {
   "cell_type": "markdown",
   "metadata": {},
   "source": [
    "### Feature Selection"
   ]
  },
  {
   "cell_type": "markdown",
   "metadata": {},
   "source": [
    "#### Mutual information"
   ]
  },
  {
   "cell_type": "markdown",
   "metadata": {},
   "source": [
    "MI là một phương pháp để kiểm tra "
   ]
  },
  {
   "cell_type": "code",
   "execution_count": 53,
   "metadata": {},
   "outputs": [
    {
     "name": "stderr",
     "output_type": "stream",
     "text": [
      "f:\\Vendors\\Anaconda\\lib\\site-packages\\sklearn\\cluster\\_kmeans.py:1382: UserWarning: KMeans is known to have a memory leak on Windows with MKL, when there are less chunks than available threads. You can avoid it by setting the environment variable OMP_NUM_THREADS=5.\n",
      "  warnings.warn(\n",
      "f:\\Vendors\\Anaconda\\lib\\site-packages\\sklearn\\cluster\\_kmeans.py:1382: UserWarning: KMeans is known to have a memory leak on Windows with MKL, when there are less chunks than available threads. You can avoid it by setting the environment variable OMP_NUM_THREADS=5.\n",
      "  warnings.warn(\n",
      "f:\\Vendors\\Anaconda\\lib\\site-packages\\sklearn\\cluster\\_kmeans.py:1382: UserWarning: KMeans is known to have a memory leak on Windows with MKL, when there are less chunks than available threads. You can avoid it by setting the environment variable OMP_NUM_THREADS=5.\n",
      "  warnings.warn(\n",
      "f:\\Vendors\\Anaconda\\lib\\site-packages\\sklearn\\cluster\\_kmeans.py:1382: UserWarning: KMeans is known to have a memory leak on Windows with MKL, when there are less chunks than available threads. You can avoid it by setting the environment variable OMP_NUM_THREADS=5.\n",
      "  warnings.warn(\n",
      "f:\\Vendors\\Anaconda\\lib\\site-packages\\sklearn\\cluster\\_kmeans.py:1382: UserWarning: KMeans is known to have a memory leak on Windows with MKL, when there are less chunks than available threads. You can avoid it by setting the environment variable OMP_NUM_THREADS=5.\n",
      "  warnings.warn(\n",
      "f:\\Vendors\\Anaconda\\lib\\site-packages\\sklearn\\cluster\\_kmeans.py:1382: UserWarning: KMeans is known to have a memory leak on Windows with MKL, when there are less chunks than available threads. You can avoid it by setting the environment variable OMP_NUM_THREADS=5.\n",
      "  warnings.warn(\n",
      "f:\\Vendors\\Anaconda\\lib\\site-packages\\sklearn\\preprocessing\\_label.py:895: UserWarning: unknown class(es) ['atopic dermatitis and repetitive respiratory infections', 'begin tumor (removed)', 'chronic liver disorder', 'chronic neurological disorders', 'fatty liver', 'hypertention', 'lung disease', 'pneumomediastinum and subcutaneous emphysema', 'rheumatoid arthritis'] will be ignored\n",
      "  warnings.warn(\n"
     ]
    },
    {
     "name": "stdout",
     "output_type": "stream",
     "text": [
      "Parsing took 0.48 seconds\n",
      "Training took 7.30 seconds\n",
      "              precision    recall  f1-score   support\n",
      "\n",
      "     COVID19       0.95      0.85      0.90        82\n",
      "        H1N1       0.95      0.98      0.96       215\n",
      "\n",
      "    accuracy                           0.95       297\n",
      "   macro avg       0.95      0.92      0.93       297\n",
      "weighted avg       0.95      0.95      0.95       297\n",
      "\n",
      "Overall took 7.32 seconds\n"
     ]
    }
   ],
   "source": [
    "from sklearn.feature_selection import SelectKBest\n",
    "from sklearn.feature_selection import mutual_info_classif, chi2\n",
    "risk_factor_pipeline = Pipeline(\n",
    "    [\n",
    "        ('select_risk_factor', FunctionTransformer(\n",
    "                               lambda df: df['RiskFactors'])),\n",
    "        ('dummify', DummifyRiskFactor()),\n",
    "        ('mutual_info', SelectKBest(mutual_info_classif, k=20))\n",
    "    ]\n",
    ")\n",
    " \n",
    " \n",
    "simple_fe = FeatureUnion([\n",
    "    ('risk_factors', risk_factor_pipeline),\n",
    "    ('binary_pipeline', binary_pipeline),\n",
    "    ('numerical_pipeline', numerical_pipeline)\n",
    "])\n",
    " \n",
    "best_model = simple_grid_search(x_train, y_train, x_test, y_test, simple_fe)"
   ]
  },
  {
   "cell_type": "code",
   "execution_count": 54,
   "metadata": {},
   "outputs": [
    {
     "name": "stderr",
     "output_type": "stream",
     "text": [
      "f:\\Vendors\\Anaconda\\lib\\site-packages\\sklearn\\cluster\\_kmeans.py:1382: UserWarning: KMeans is known to have a memory leak on Windows with MKL, when there are less chunks than available threads. You can avoid it by setting the environment variable OMP_NUM_THREADS=5.\n",
      "  warnings.warn(\n",
      "f:\\Vendors\\Anaconda\\lib\\site-packages\\sklearn\\cluster\\_kmeans.py:1382: UserWarning: KMeans is known to have a memory leak on Windows with MKL, when there are less chunks than available threads. You can avoid it by setting the environment variable OMP_NUM_THREADS=5.\n",
      "  warnings.warn(\n",
      "f:\\Vendors\\Anaconda\\lib\\site-packages\\sklearn\\cluster\\_kmeans.py:1382: UserWarning: KMeans is known to have a memory leak on Windows with MKL, when there are less chunks than available threads. You can avoid it by setting the environment variable OMP_NUM_THREADS=5.\n",
      "  warnings.warn(\n",
      "f:\\Vendors\\Anaconda\\lib\\site-packages\\sklearn\\cluster\\_kmeans.py:1382: UserWarning: KMeans is known to have a memory leak on Windows with MKL, when there are less chunks than available threads. You can avoid it by setting the environment variable OMP_NUM_THREADS=5.\n",
      "  warnings.warn(\n",
      "f:\\Vendors\\Anaconda\\lib\\site-packages\\sklearn\\cluster\\_kmeans.py:1382: UserWarning: KMeans is known to have a memory leak on Windows with MKL, when there are less chunks than available threads. You can avoid it by setting the environment variable OMP_NUM_THREADS=5.\n",
      "  warnings.warn(\n",
      "f:\\Vendors\\Anaconda\\lib\\site-packages\\sklearn\\cluster\\_kmeans.py:1382: UserWarning: KMeans is known to have a memory leak on Windows with MKL, when there are less chunks than available threads. You can avoid it by setting the environment variable OMP_NUM_THREADS=5.\n",
      "  warnings.warn(\n",
      "f:\\Vendors\\Anaconda\\lib\\site-packages\\sklearn\\preprocessing\\_label.py:895: UserWarning: unknown class(es) ['atopic dermatitis and repetitive respiratory infections', 'begin tumor (removed)', 'chronic liver disorder', 'chronic neurological disorders', 'fatty liver', 'hypertention', 'lung disease', 'pneumomediastinum and subcutaneous emphysema', 'rheumatoid arthritis'] will be ignored\n",
      "  warnings.warn(\n"
     ]
    },
    {
     "name": "stdout",
     "output_type": "stream",
     "text": [
      "Parsing took 0.38 seconds\n",
      "Training took 7.18 seconds\n",
      "              precision    recall  f1-score   support\n",
      "\n",
      "     COVID19       0.95      0.87      0.90        82\n",
      "        H1N1       0.95      0.98      0.97       215\n",
      "\n",
      "    accuracy                           0.95       297\n",
      "   macro avg       0.95      0.92      0.94       297\n",
      "weighted avg       0.95      0.95      0.95       297\n",
      "\n",
      "Overall took 7.19 seconds\n"
     ]
    }
   ],
   "source": [
    "risk_factor_pipeline = Pipeline(\n",
    "    [\n",
    "        ('select_risk_factor', FunctionTransformer(\n",
    "                               lambda df: df['RiskFactors'])),\n",
    "        ('dummify', DummifyRiskFactor()),\n",
    "        ('mutual_info', SelectKBest(chi2, k=20))\n",
    "    ]\n",
    ")\n",
    " \n",
    " \n",
    "simple_fe = FeatureUnion([\n",
    "    ('risk_factors', risk_factor_pipeline),\n",
    "    ('binary_pipeline', binary_pipeline),\n",
    "    ('numerical_pipeline', numerical_pipeline)\n",
    "])\n",
    " \n",
    "best_model = simple_grid_search(x_train, y_train, x_test, y_test, simple_fe)"
   ]
  },
  {
   "cell_type": "code",
   "execution_count": 55,
   "metadata": {},
   "outputs": [
    {
     "name": "stderr",
     "output_type": "stream",
     "text": [
      "f:\\Vendors\\Anaconda\\lib\\site-packages\\sklearn\\cluster\\_kmeans.py:1382: UserWarning: KMeans is known to have a memory leak on Windows with MKL, when there are less chunks than available threads. You can avoid it by setting the environment variable OMP_NUM_THREADS=5.\n",
      "  warnings.warn(\n",
      "f:\\Vendors\\Anaconda\\lib\\site-packages\\sklearn\\cluster\\_kmeans.py:1382: UserWarning: KMeans is known to have a memory leak on Windows with MKL, when there are less chunks than available threads. You can avoid it by setting the environment variable OMP_NUM_THREADS=5.\n",
      "  warnings.warn(\n",
      "f:\\Vendors\\Anaconda\\lib\\site-packages\\sklearn\\cluster\\_kmeans.py:1382: UserWarning: KMeans is known to have a memory leak on Windows with MKL, when there are less chunks than available threads. You can avoid it by setting the environment variable OMP_NUM_THREADS=5.\n",
      "  warnings.warn(\n",
      "f:\\Vendors\\Anaconda\\lib\\site-packages\\sklearn\\cluster\\_kmeans.py:1382: UserWarning: KMeans is known to have a memory leak on Windows with MKL, when there are less chunks than available threads. You can avoid it by setting the environment variable OMP_NUM_THREADS=5.\n",
      "  warnings.warn(\n",
      "f:\\Vendors\\Anaconda\\lib\\site-packages\\sklearn\\cluster\\_kmeans.py:1382: UserWarning: KMeans is known to have a memory leak on Windows with MKL, when there are less chunks than available threads. You can avoid it by setting the environment variable OMP_NUM_THREADS=5.\n",
      "  warnings.warn(\n",
      "f:\\Vendors\\Anaconda\\lib\\site-packages\\sklearn\\cluster\\_kmeans.py:1382: UserWarning: KMeans is known to have a memory leak on Windows with MKL, when there are less chunks than available threads. You can avoid it by setting the environment variable OMP_NUM_THREADS=5.\n",
      "  warnings.warn(\n",
      "f:\\Vendors\\Anaconda\\lib\\site-packages\\sklearn\\preprocessing\\_label.py:895: UserWarning: unknown class(es) ['atopic dermatitis and repetitive respiratory infections', 'begin tumor (removed)', 'chronic liver disorder', 'chronic neurological disorders', 'fatty liver', 'hypertention', 'lung disease', 'pneumomediastinum and subcutaneous emphysema', 'rheumatoid arthritis'] will be ignored\n",
      "  warnings.warn(\n"
     ]
    },
    {
     "name": "stdout",
     "output_type": "stream",
     "text": [
      "Parsing took 0.37 seconds\n",
      "Training took 7.11 seconds\n",
      "              precision    recall  f1-score   support\n",
      "\n",
      "     COVID19       0.93      0.85      0.89        82\n",
      "        H1N1       0.95      0.98      0.96       215\n",
      "\n",
      "    accuracy                           0.94       297\n",
      "   macro avg       0.94      0.92      0.93       297\n",
      "weighted avg       0.94      0.94      0.94       297\n",
      "\n",
      "Overall took 7.12 seconds\n"
     ]
    }
   ],
   "source": [
    "from sklearn.feature_selection import SelectFromModel\n",
    "from sklearn.tree import DecisionTreeClassifier\n",
    " \n",
    "risk_factor_pipeline = Pipeline(\n",
    "    [\n",
    "        ('select_risk_factor', FunctionTransformer(\n",
    "                               lambda df: df['RiskFactors'])),\n",
    "        ('dummify', DummifyRiskFactor()),\n",
    "        ('tree_selector', SelectFromModel(\n",
    "                 max_features=20, estimator=DecisionTreeClassifier()))      \n",
    "    ]\n",
    ")\n",
    "simple_fe = FeatureUnion([\n",
    "    ('risk_factors', risk_factor_pipeline),\n",
    "    ('binary_pipeline', binary_pipeline),\n",
    "    ('numerical_pipeline', numerical_pipeline)\n",
    "])\n",
    " \n",
    "best_model = simple_grid_search(x_train, y_train, x_test, y_test, simple_fe)"
   ]
  },
  {
   "cell_type": "code",
   "execution_count": null,
   "metadata": {},
   "outputs": [],
   "source": []
  }
 ],
 "metadata": {
  "kernelspec": {
   "display_name": "base",
   "language": "python",
   "name": "python3"
  },
  "language_info": {
   "codemirror_mode": {
    "name": "ipython",
    "version": 3
   },
   "file_extension": ".py",
   "mimetype": "text/x-python",
   "name": "python",
   "nbconvert_exporter": "python",
   "pygments_lexer": "ipython3",
   "version": "3.10.9"
  }
 },
 "nbformat": 4,
 "nbformat_minor": 2
}
